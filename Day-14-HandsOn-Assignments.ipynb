{
  "cells": [
    {
      "cell_type": "code",
      "source": [
        "# Last Session\n",
        "\n",
        "# 1 Hyperscalers (Cloud Env)\n",
        "# 2 End to End - HandsOn Assignment"
      ],
      "metadata": {
        "id": "kqigbC6_x6iL"
      },
      "execution_count": 1,
      "outputs": []
    },
    {
      "cell_type": "code",
      "source": [
        "# Developing Application backed by LLMs\n",
        "# Single User => Multi Users and Multiple Sessions\n",
        "\n",
        "# Scalable Applications - YouTube - Chat Bot on YT Transcript\n",
        "\n",
        "# On-Premise / Local Env => Cloud Env (Public - Azure / AWS / GCP)\n",
        "\n",
        "# IaaS\n",
        "# SaaS\n",
        "# PaaS\n"
      ],
      "metadata": {
        "id": "xYjVNUl9yX-J"
      },
      "execution_count": 4,
      "outputs": []
    },
    {
      "cell_type": "code",
      "source": [
        "# Application - Ingest / Upload Data to application, Integrate with LLM, Building UI\n"
      ],
      "metadata": {
        "id": "c-J4iilwzKcU"
      },
      "execution_count": 5,
      "outputs": []
    },
    {
      "cell_type": "code",
      "source": [
        "# Unified Platforms\n",
        "# Data Applications - DE, DS, ML, AI\n",
        "\n",
        "# Gen-AI -\n",
        "# Azure => Azure AI Foundary => PaaS"
      ],
      "metadata": {
        "id": "zsSkzoL50sCT"
      },
      "execution_count": null,
      "outputs": []
    },
    {
      "cell_type": "code",
      "source": [
        "# Hands-On Assessment - Solutions to submit\n"
      ],
      "metadata": {
        "id": "2r3wGzITHVYY"
      },
      "execution_count": 6,
      "outputs": []
    },
    {
      "cell_type": "code",
      "source": [
        "# Hands-on Assignemnts -\n",
        "# QnA Chatbot - > YouTube Video Transcripts.\n",
        "\n",
        "#Build a RAG Based Gen-AI Application (chat-bot) - Q&A over YouTube Videos.\n",
        "\n",
        "#Steps:\n",
        "\n",
        "# 1 Select Topics (e.g. Healthcare, Data Engineering, Gen-AI, or any Podcast videos.\n",
        "\n",
        "# 2 Get the transcript of the YouTube Video / Videos (Hint - Use YouTube API and Video-IDs to get the transcript)\n",
        "\n",
        "# 3 Use Text-Splitter to divide huge transcripts into chunks.\n",
        "\n",
        "# 4 Generate Embeddings for the chunks and store in Vector-DB (eg - Chroma / PineCone)\n",
        "\n",
        "# 5 Integrate LLM\n",
        "\n",
        "# 6 Send prompts and generate responses from the external knowledge (transcripts)\n",
        "\n",
        "# 7 Try to make it dynamic - to chat in a loop untill 'exit' is typed, the bot shall run.\n",
        "\n",
        "# 8 Optional - Build UI using 'Gradio'\n",
        "\n",
        "# 9 Optional - Deploy the application on Azure Cloud."
      ],
      "metadata": {
        "id": "8atk4MkGHZ1h"
      },
      "execution_count": null,
      "outputs": []
    },
    {
      "cell_type": "code",
      "source": [
        "# RAG Based chat-bot application\n",
        "\n",
        "# Information / Answers the questions - on different aspects for a City / Travel Destination\n",
        "\n",
        "\n",
        "# Keep city as Static - Choose any city - PDFS, DOCs, websites (URL)\n",
        "\n",
        "# PDFs (download from internet - info about a particular city), WebLoader - websites for info about the city.\n",
        "\n",
        "# 1 Loaders\n",
        "# 2 Splitters\n",
        "# 3 Vector Store - to store embeddings for all information.\n",
        "# 4 Integrate LLMs\n",
        "# 5 Chatbot (Model, Prompt)\n",
        "# 6 Optionally - Build a gradio UI\n",
        "\n",
        "# Optionally - You can make city as dynamic input to the application.\n",
        "                # Web Sites / URLs\n",
        "\n",
        "# Sumbit by 15th Sept.\n",
        "\n",
        "\n",
        "# One drive folder ULR - I will share - Upload the folder with your name (code file , screenshots, datasets)\n",
        "\n"
      ],
      "metadata": {
        "id": "xcyhft4LH2D6"
      },
      "execution_count": 7,
      "outputs": []
    },
    {
      "cell_type": "code",
      "source": [
        "# 40 % - mcq (60 % of 40-mcq - PASSING CRITERIA)\n",
        "# 60 % - Hands-On"
      ],
      "metadata": {
        "id": "gOFERPanJGl6"
      },
      "execution_count": 8,
      "outputs": []
    },
    {
      "cell_type": "code",
      "source": [
        "# End of the Notebook"
      ],
      "metadata": {
        "id": "l4JVEhybLzo6"
      },
      "execution_count": 9,
      "outputs": []
    },
    {
      "cell_type": "code",
      "source": [],
      "metadata": {
        "id": "ZS7wdpkzL1pk"
      },
      "execution_count": null,
      "outputs": []
    }
  ],
  "metadata": {
    "colab": {
      "name": "Welcome To Colab",
      "toc_visible": true,
      "provenance": []
    },
    "kernelspec": {
      "display_name": "Python 3",
      "name": "python3"
    }
  },
  "nbformat": 4,
  "nbformat_minor": 0
}