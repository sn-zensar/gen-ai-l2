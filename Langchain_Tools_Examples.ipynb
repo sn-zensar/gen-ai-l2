{
  "cells": [
    {
      "cell_type": "code",
      "source": [
        "# RAG Based Application Developement\n",
        "  # LLM\n",
        "  # External Knowledge (Private / Documents - PDF, Text, CSV) - accurate, reduce hallucinations."
      ],
      "metadata": {
        "id": "5bHG7P70lTPo"
      },
      "execution_count": 4,
      "outputs": []
    },
    {
      "cell_type": "code",
      "source": [
        "# LLM\n",
        "\n",
        "    # Generate - Text/Images/Videos ....\n",
        "    # Thinking\n",
        "# Model\n",
        "# Reasoning - (Think)\n",
        "# Speed - (Generate Responses)"
      ],
      "metadata": {
        "id": "c93nm-yroO1z"
      },
      "execution_count": null,
      "outputs": []
    },
    {
      "cell_type": "code",
      "source": [
        "# Install the openai library if not already installed\n",
        "# !pip install openai\n",
        "\n",
        "import openai\n",
        "from google.colab import userdata\n",
        "\n",
        "# Configure the OpenAI API\n",
        "# Replace 'YOUR_OPENAI_API_KEY' with your actual OpenAI API key\n",
        "OPENAI_API_KEY = userdata.get('OPENAI_API_KEY') # Or replace with your key\n",
        "client = openai.OpenAI(api_key=OPENAI_API_KEY)\n",
        "\n",
        "# Dynamic chatbot loop\n",
        "print(\"Start chatting with the LLM! Type 'quit' to exit.\")\n",
        "conversation_history = []\n",
        "\n",
        "while True:\n",
        "    user_input = input(\"You: \")\n",
        "    if user_input.lower() == 'quit':\n",
        "        break\n",
        "\n",
        "    try:\n",
        "        messages = conversation_history + [{\"role\": \"user\", \"content\": user_input}]\n",
        "        response = client.chat.completions.create(\n",
        "            model=\"gpt-4o-mini\", # Using the gpt-4o-mini model\n",
        "            messages=messages\n",
        "        )\n",
        "        llm_response = response.choices[0].message.content\n",
        "        print(f\"LLM: {llm_response}\")\n",
        "\n",
        "        # Update conversation history\n",
        "        conversation_history.append({\"role\": \"user\", \"content\": user_input})\n",
        "        conversation_history.append({\"role\": \"assistant\", \"content\": llm_response})\n",
        "\n",
        "    except Exception as e:\n",
        "        print(f\"An error occurred: {e}\")"
      ],
      "metadata": {
        "colab": {
          "base_uri": "https://localhost:8080/",
          "height": 1000
        },
        "id": "mXIOqRGLqXEO",
        "outputId": "69e2cd7c-1b31-4977-d555-7f2745de73c5"
      },
      "execution_count": 10,
      "outputs": [
        {
          "output_type": "stream",
          "name": "stdout",
          "text": [
            "Start chatting with the LLM! Type 'quit' to exit.\n",
            "You: give me factorial of 3\n",
            "LLM: The factorial of 3, denoted as \\(3!\\), is calculated as follows:\n",
            "\n",
            "\\[ \n",
            "3! = 3 \\times 2 \\times 1 = 6 \n",
            "\\]\n",
            "\n",
            "So, the factorial of 3 is 6.\n",
            "You: factorial of 5\n",
            "LLM: The factorial of 5, denoted as \\(5!\\), is calculated as follows:\n",
            "\n",
            "\\[\n",
            "5! = 5 \\times 4 \\times 3 \\times 2 \\times 1 = 120\n",
            "\\]\n",
            "\n",
            "So, the factorial of 5 is 120.\n",
            "You: factorial of 9\n",
            "LLM: The factorial of 9, denoted as \\(9!\\), is calculated as follows:\n",
            "\n",
            "\\[\n",
            "9! = 9 \\times 8 \\times 7 \\times 6 \\times 5 \\times 4 \\times 3 \\times 2 \\times 1 = 362,880\n",
            "\\]\n",
            "\n",
            "So, the factorial of 9 is 362,880.\n",
            "You: can u write a python code to calculate factorial of any given num \n",
            "LLM: Certainly! Here’s a simple Python function that calculates the factorial of any given non-negative integer using a recursive approach:\n",
            "\n",
            "```python\n",
            "def factorial(n):\n",
            "    if n < 0:\n",
            "        raise ValueError(\"Factorial is not defined for negative numbers.\")\n",
            "    elif n == 0 or n == 1:\n",
            "        return 1\n",
            "    else:\n",
            "        return n * factorial(n - 1)\n",
            "\n",
            "# Example usage:\n",
            "number = int(input(\"Enter a non-negative integer: \"))\n",
            "try:\n",
            "    result = factorial(number)\n",
            "    print(f\"The factorial of {number} is {result}.\")\n",
            "except ValueError as e:\n",
            "    print(e)\n",
            "```\n",
            "\n",
            "You can run this code in any Python environment. It prompts the user to input a non-negative integer and then calculates and prints the factorial of that number. If the input is negative, it raises an error.\n"
          ]
        },
        {
          "output_type": "error",
          "ename": "KeyboardInterrupt",
          "evalue": "Interrupted by user",
          "traceback": [
            "\u001b[0;31m---------------------------------------------------------------------------\u001b[0m",
            "\u001b[0;31mKeyboardInterrupt\u001b[0m                         Traceback (most recent call last)",
            "\u001b[0;32m/tmp/ipython-input-3716853607.py\u001b[0m in \u001b[0;36m<cell line: 0>\u001b[0;34m()\u001b[0m\n\u001b[1;32m     15\u001b[0m \u001b[0;34m\u001b[0m\u001b[0m\n\u001b[1;32m     16\u001b[0m \u001b[0;32mwhile\u001b[0m \u001b[0;32mTrue\u001b[0m\u001b[0;34m:\u001b[0m\u001b[0;34m\u001b[0m\u001b[0;34m\u001b[0m\u001b[0m\n\u001b[0;32m---> 17\u001b[0;31m     \u001b[0muser_input\u001b[0m \u001b[0;34m=\u001b[0m \u001b[0minput\u001b[0m\u001b[0;34m(\u001b[0m\u001b[0;34m\"You: \"\u001b[0m\u001b[0;34m)\u001b[0m\u001b[0;34m\u001b[0m\u001b[0;34m\u001b[0m\u001b[0m\n\u001b[0m\u001b[1;32m     18\u001b[0m     \u001b[0;32mif\u001b[0m \u001b[0muser_input\u001b[0m\u001b[0;34m.\u001b[0m\u001b[0mlower\u001b[0m\u001b[0;34m(\u001b[0m\u001b[0;34m)\u001b[0m \u001b[0;34m==\u001b[0m \u001b[0;34m'quit'\u001b[0m\u001b[0;34m:\u001b[0m\u001b[0;34m\u001b[0m\u001b[0;34m\u001b[0m\u001b[0m\n\u001b[1;32m     19\u001b[0m         \u001b[0;32mbreak\u001b[0m\u001b[0;34m\u001b[0m\u001b[0;34m\u001b[0m\u001b[0m\n",
            "\u001b[0;32m/usr/local/lib/python3.12/dist-packages/ipykernel/kernelbase.py\u001b[0m in \u001b[0;36mraw_input\u001b[0;34m(self, prompt)\u001b[0m\n\u001b[1;32m   1175\u001b[0m                 \u001b[0;34m\"raw_input was called, but this frontend does not support input requests.\"\u001b[0m\u001b[0;34m\u001b[0m\u001b[0;34m\u001b[0m\u001b[0m\n\u001b[1;32m   1176\u001b[0m             )\n\u001b[0;32m-> 1177\u001b[0;31m         return self._input_request(\n\u001b[0m\u001b[1;32m   1178\u001b[0m             \u001b[0mstr\u001b[0m\u001b[0;34m(\u001b[0m\u001b[0mprompt\u001b[0m\u001b[0;34m)\u001b[0m\u001b[0;34m,\u001b[0m\u001b[0;34m\u001b[0m\u001b[0;34m\u001b[0m\u001b[0m\n\u001b[1;32m   1179\u001b[0m             \u001b[0mself\u001b[0m\u001b[0;34m.\u001b[0m\u001b[0m_parent_ident\u001b[0m\u001b[0;34m[\u001b[0m\u001b[0;34m\"shell\"\u001b[0m\u001b[0;34m]\u001b[0m\u001b[0;34m,\u001b[0m\u001b[0;34m\u001b[0m\u001b[0;34m\u001b[0m\u001b[0m\n",
            "\u001b[0;32m/usr/local/lib/python3.12/dist-packages/ipykernel/kernelbase.py\u001b[0m in \u001b[0;36m_input_request\u001b[0;34m(self, prompt, ident, parent, password)\u001b[0m\n\u001b[1;32m   1217\u001b[0m             \u001b[0;32mexcept\u001b[0m \u001b[0mKeyboardInterrupt\u001b[0m\u001b[0;34m:\u001b[0m\u001b[0;34m\u001b[0m\u001b[0;34m\u001b[0m\u001b[0m\n\u001b[1;32m   1218\u001b[0m                 \u001b[0;31m# re-raise KeyboardInterrupt, to truncate traceback\u001b[0m\u001b[0;34m\u001b[0m\u001b[0;34m\u001b[0m\u001b[0m\n\u001b[0;32m-> 1219\u001b[0;31m                 \u001b[0;32mraise\u001b[0m \u001b[0mKeyboardInterrupt\u001b[0m\u001b[0;34m(\u001b[0m\u001b[0;34m\"Interrupted by user\"\u001b[0m\u001b[0;34m)\u001b[0m \u001b[0;32mfrom\u001b[0m \u001b[0;32mNone\u001b[0m\u001b[0;34m\u001b[0m\u001b[0;34m\u001b[0m\u001b[0m\n\u001b[0m\u001b[1;32m   1220\u001b[0m             \u001b[0;32mexcept\u001b[0m \u001b[0mException\u001b[0m\u001b[0;34m:\u001b[0m\u001b[0;34m\u001b[0m\u001b[0;34m\u001b[0m\u001b[0m\n\u001b[1;32m   1221\u001b[0m                 \u001b[0mself\u001b[0m\u001b[0;34m.\u001b[0m\u001b[0mlog\u001b[0m\u001b[0;34m.\u001b[0m\u001b[0mwarning\u001b[0m\u001b[0;34m(\u001b[0m\u001b[0;34m\"Invalid Message:\"\u001b[0m\u001b[0;34m,\u001b[0m \u001b[0mexc_info\u001b[0m\u001b[0;34m=\u001b[0m\u001b[0;32mTrue\u001b[0m\u001b[0;34m)\u001b[0m\u001b[0;34m\u001b[0m\u001b[0;34m\u001b[0m\u001b[0m\n",
            "\u001b[0;31mKeyboardInterrupt\u001b[0m: Interrupted by user"
          ]
        }
      ]
    },
    {
      "cell_type": "code",
      "source": [
        "# 1. Stock Suggestions\n",
        "# 2. Building an application - which can execute trade orders on behalf of us.\n",
        "      # Steps may include\n",
        "          # Reading Chart Values (candles)\n",
        "          # Identify the tradable zones\n",
        "          # Parallely - Live news data\n",
        "          # Sentiments from live news\n",
        "          # Make a decision\n",
        "          # Execute it\n"
      ],
      "metadata": {
        "id": "NHCr0mrFsnU7"
      },
      "execution_count": null,
      "outputs": []
    },
    {
      "cell_type": "code",
      "source": [
        " # Langchain - Tools\n",
        "\n",
        " # Tools are Functions in langchain (like in Prog Lang)\n",
        "                    # 1 Built In\n",
        "                    # 2 User Defined"
      ],
      "metadata": {
        "id": "5zafSC7_tegy"
      },
      "execution_count": 11,
      "outputs": []
    },
    {
      "cell_type": "code",
      "source": [
        "# Install langchain if not already installed\n",
        "# !pip install langchain\n",
        "\n",
        "from langchain.agents import load_tools\n",
        "\n",
        "# Langchain provides a variety of built-in tools for different purposes.\n",
        "# You can load common tools like 'llm-math' and 'wikipedia'.\n",
        "# Note: Some tools require additional installations or API keys.\n",
        "try:\n",
        "    tools = load_tools([\"llm-math\", \"wikipedia\"])\n",
        "    print(\"Successfully loaded some built-in Langchain tools:\")\n",
        "    for tool in tools:\n",
        "        print(f\"- {tool.name}: {tool.description}\")\n",
        "\n",
        "except Exception as e:\n",
        "    print(f\"Could not load tools. Make sure you have the necessary dependencies installed (e.g., wikipedia for the wikipedia tool). Error: {e}\")\n",
        "\n",
        "# To see a more comprehensive list or explore other tools, you can refer to the Langchain documentation."
      ],
      "metadata": {
        "colab": {
          "base_uri": "https://localhost:8080/",
          "height": 616
        },
        "id": "f7Q6CtHfvtVT",
        "outputId": "1384eafc-1c27-43b6-c2c0-ee08b2238020"
      },
      "execution_count": 13,
      "outputs": [
        {
          "output_type": "error",
          "ename": "ModuleNotFoundError",
          "evalue": "Module langchain_community.agent_toolkits.load_tools not found. Please install langchain-community to access this module. You can install it using `pip install -U langchain-community`",
          "traceback": [
            "\u001b[0;31m---------------------------------------------------------------------------\u001b[0m",
            "\u001b[0;31mModuleNotFoundError\u001b[0m                       Traceback (most recent call last)",
            "\u001b[0;32m/usr/local/lib/python3.12/dist-packages/langchain/_api/module_import.py\u001b[0m in \u001b[0;36mimport_by_name\u001b[0;34m(name)\u001b[0m\n\u001b[1;32m     69\u001b[0m             \u001b[0;32mtry\u001b[0m\u001b[0;34m:\u001b[0m\u001b[0;34m\u001b[0m\u001b[0;34m\u001b[0m\u001b[0m\n\u001b[0;32m---> 70\u001b[0;31m                 \u001b[0mmodule\u001b[0m \u001b[0;34m=\u001b[0m \u001b[0mimportlib\u001b[0m\u001b[0;34m.\u001b[0m\u001b[0mimport_module\u001b[0m\u001b[0;34m(\u001b[0m\u001b[0mnew_module\u001b[0m\u001b[0;34m)\u001b[0m\u001b[0;34m\u001b[0m\u001b[0;34m\u001b[0m\u001b[0m\n\u001b[0m\u001b[1;32m     71\u001b[0m             \u001b[0;32mexcept\u001b[0m \u001b[0mModuleNotFoundError\u001b[0m \u001b[0;32mas\u001b[0m \u001b[0me\u001b[0m\u001b[0;34m:\u001b[0m\u001b[0;34m\u001b[0m\u001b[0;34m\u001b[0m\u001b[0m\n",
            "\u001b[0;32m/usr/lib/python3.12/importlib/__init__.py\u001b[0m in \u001b[0;36mimport_module\u001b[0;34m(name, package)\u001b[0m\n\u001b[1;32m     89\u001b[0m             \u001b[0mlevel\u001b[0m \u001b[0;34m+=\u001b[0m \u001b[0;36m1\u001b[0m\u001b[0;34m\u001b[0m\u001b[0;34m\u001b[0m\u001b[0m\n\u001b[0;32m---> 90\u001b[0;31m     \u001b[0;32mreturn\u001b[0m \u001b[0m_bootstrap\u001b[0m\u001b[0;34m.\u001b[0m\u001b[0m_gcd_import\u001b[0m\u001b[0;34m(\u001b[0m\u001b[0mname\u001b[0m\u001b[0;34m[\u001b[0m\u001b[0mlevel\u001b[0m\u001b[0;34m:\u001b[0m\u001b[0;34m]\u001b[0m\u001b[0;34m,\u001b[0m \u001b[0mpackage\u001b[0m\u001b[0;34m,\u001b[0m \u001b[0mlevel\u001b[0m\u001b[0;34m)\u001b[0m\u001b[0;34m\u001b[0m\u001b[0;34m\u001b[0m\u001b[0m\n\u001b[0m\u001b[1;32m     91\u001b[0m \u001b[0;34m\u001b[0m\u001b[0m\n",
            "\u001b[0;32m/usr/lib/python3.12/importlib/_bootstrap.py\u001b[0m in \u001b[0;36m_gcd_import\u001b[0;34m(name, package, level)\u001b[0m\n",
            "\u001b[0;32m/usr/lib/python3.12/importlib/_bootstrap.py\u001b[0m in \u001b[0;36m_find_and_load\u001b[0;34m(name, import_)\u001b[0m\n",
            "\u001b[0;32m/usr/lib/python3.12/importlib/_bootstrap.py\u001b[0m in \u001b[0;36m_find_and_load_unlocked\u001b[0;34m(name, import_)\u001b[0m\n",
            "\u001b[0;32m/usr/lib/python3.12/importlib/_bootstrap.py\u001b[0m in \u001b[0;36m_call_with_frames_removed\u001b[0;34m(f, *args, **kwds)\u001b[0m\n",
            "\u001b[0;32m/usr/lib/python3.12/importlib/_bootstrap.py\u001b[0m in \u001b[0;36m_gcd_import\u001b[0;34m(name, package, level)\u001b[0m\n",
            "\u001b[0;32m/usr/lib/python3.12/importlib/_bootstrap.py\u001b[0m in \u001b[0;36m_find_and_load\u001b[0;34m(name, import_)\u001b[0m\n",
            "\u001b[0;32m/usr/lib/python3.12/importlib/_bootstrap.py\u001b[0m in \u001b[0;36m_find_and_load_unlocked\u001b[0;34m(name, import_)\u001b[0m\n",
            "\u001b[0;32m/usr/lib/python3.12/importlib/_bootstrap.py\u001b[0m in \u001b[0;36m_call_with_frames_removed\u001b[0;34m(f, *args, **kwds)\u001b[0m\n",
            "\u001b[0;32m/usr/lib/python3.12/importlib/_bootstrap.py\u001b[0m in \u001b[0;36m_gcd_import\u001b[0;34m(name, package, level)\u001b[0m\n",
            "\u001b[0;32m/usr/lib/python3.12/importlib/_bootstrap.py\u001b[0m in \u001b[0;36m_find_and_load\u001b[0;34m(name, import_)\u001b[0m\n",
            "\u001b[0;32m/usr/lib/python3.12/importlib/_bootstrap.py\u001b[0m in \u001b[0;36m_find_and_load_unlocked\u001b[0;34m(name, import_)\u001b[0m\n",
            "\u001b[0;31mModuleNotFoundError\u001b[0m: No module named 'langchain_community'",
            "\nThe above exception was the direct cause of the following exception:\n",
            "\u001b[0;31mModuleNotFoundError\u001b[0m                       Traceback (most recent call last)",
            "\u001b[0;32m/tmp/ipython-input-1425548291.py\u001b[0m in \u001b[0;36m<cell line: 0>\u001b[0;34m()\u001b[0m\n\u001b[1;32m      2\u001b[0m \u001b[0;31m# !pip install langchain\u001b[0m\u001b[0;34m\u001b[0m\u001b[0;34m\u001b[0m\u001b[0m\n\u001b[1;32m      3\u001b[0m \u001b[0;34m\u001b[0m\u001b[0m\n\u001b[0;32m----> 4\u001b[0;31m \u001b[0;32mfrom\u001b[0m \u001b[0mlangchain\u001b[0m\u001b[0;34m.\u001b[0m\u001b[0magents\u001b[0m \u001b[0;32mimport\u001b[0m \u001b[0mload_tools\u001b[0m\u001b[0;34m\u001b[0m\u001b[0;34m\u001b[0m\u001b[0m\n\u001b[0m\u001b[1;32m      5\u001b[0m \u001b[0;34m\u001b[0m\u001b[0m\n\u001b[1;32m      6\u001b[0m \u001b[0;31m# Langchain provides a variety of built-in tools for different purposes.\u001b[0m\u001b[0;34m\u001b[0m\u001b[0;34m\u001b[0m\u001b[0m\n",
            "\u001b[0;32m/usr/local/lib/python3.12/dist-packages/langchain/agents/__init__.py\u001b[0m in \u001b[0;36m__getattr__\u001b[0;34m(name)\u001b[0m\n\u001b[1;32m    136\u001b[0m         )\n\u001b[1;32m    137\u001b[0m         \u001b[0;32mraise\u001b[0m \u001b[0mImportError\u001b[0m\u001b[0;34m(\u001b[0m\u001b[0mmsg\u001b[0m\u001b[0;34m)\u001b[0m\u001b[0;34m\u001b[0m\u001b[0;34m\u001b[0m\u001b[0m\n\u001b[0;32m--> 138\u001b[0;31m     \u001b[0;32mreturn\u001b[0m \u001b[0m_import_attribute\u001b[0m\u001b[0;34m(\u001b[0m\u001b[0mname\u001b[0m\u001b[0;34m)\u001b[0m\u001b[0;34m\u001b[0m\u001b[0;34m\u001b[0m\u001b[0m\n\u001b[0m\u001b[1;32m    139\u001b[0m \u001b[0;34m\u001b[0m\u001b[0m\n\u001b[1;32m    140\u001b[0m \u001b[0;34m\u001b[0m\u001b[0m\n",
            "\u001b[0;32m/usr/local/lib/python3.12/dist-packages/langchain/_api/module_import.py\u001b[0m in \u001b[0;36mimport_by_name\u001b[0;34m(name)\u001b[0m\n\u001b[1;32m     76\u001b[0m                         \u001b[0;34m\"You can install it using `pip install -U langchain-community`\"\u001b[0m\u001b[0;34m\u001b[0m\u001b[0;34m\u001b[0m\u001b[0m\n\u001b[1;32m     77\u001b[0m                     )\n\u001b[0;32m---> 78\u001b[0;31m                     \u001b[0;32mraise\u001b[0m \u001b[0mModuleNotFoundError\u001b[0m\u001b[0;34m(\u001b[0m\u001b[0mmsg\u001b[0m\u001b[0;34m)\u001b[0m \u001b[0;32mfrom\u001b[0m \u001b[0me\u001b[0m\u001b[0;34m\u001b[0m\u001b[0;34m\u001b[0m\u001b[0m\n\u001b[0m\u001b[1;32m     79\u001b[0m                 \u001b[0;32mraise\u001b[0m\u001b[0;34m\u001b[0m\u001b[0;34m\u001b[0m\u001b[0m\n\u001b[1;32m     80\u001b[0m \u001b[0;34m\u001b[0m\u001b[0m\n",
            "\u001b[0;31mModuleNotFoundError\u001b[0m: Module langchain_community.agent_toolkits.load_tools not found. Please install langchain-community to access this module. You can install it using `pip install -U langchain-community`",
            "",
            "\u001b[0;31m---------------------------------------------------------------------------\u001b[0;32m\nNOTE: If your import is failing due to a missing package, you can\nmanually install dependencies using either !pip or !apt.\n\nTo view examples of installing some common dependencies, click the\n\"Open Examples\" button below.\n\u001b[0;31m---------------------------------------------------------------------------\u001b[0m\n"
          ],
          "errorDetails": {
            "actions": [
              {
                "action": "open_url",
                "actionText": "Open Examples",
                "url": "/notebooks/snippets/importing_libraries.ipynb"
              }
            ]
          }
        }
      ]
    },
    {
      "cell_type": "code",
      "source": [
        "# Tools - Functions in Python (user defined function)"
      ],
      "metadata": {
        "id": "TL9ogNIHv4oL"
      },
      "execution_count": null,
      "outputs": []
    },
    {
      "cell_type": "code",
      "source": [
        "# User Defined Tool"
      ],
      "metadata": {
        "id": "0Ad1w6hlxpAs"
      },
      "execution_count": null,
      "outputs": []
    },
    {
      "cell_type": "code",
      "source": [
        "# Step - 1 Import Tools"
      ],
      "metadata": {
        "id": "9AqKFlhSyRjp"
      },
      "execution_count": null,
      "outputs": []
    },
    {
      "cell_type": "code",
      "source": [
        "\n",
        "from langchain.agents import load_tools, Tool"
      ],
      "metadata": {
        "id": "NZ1I3JpFyLW9"
      },
      "execution_count": null,
      "outputs": []
    },
    {
      "cell_type": "code",
      "source": [
        "# Step - 2\n",
        "# Define Python Function"
      ],
      "metadata": {
        "id": "ytmAlh1vyUMF"
      },
      "execution_count": null,
      "outputs": []
    },
    {
      "cell_type": "code",
      "source": [
        "def simple_calculator(expression: str) -> str:\n",
        "    \"\"\"\n",
        "    Performs a simple arithmetic calculation.\n",
        "\n",
        "    Args:\n",
        "        expression: A string containing a simple arithmetic expression (e.g., \"2+2\", \"5*3\").\n",
        "\n",
        "    Returns:\n",
        "        The result of the calculation as a string, or an error message.\n",
        "    \"\"\"\n",
        "    try:\n",
        "        # Using eval() for simplicity in this example, but be cautious with untrusted input in real applications.\n",
        "        result = eval(expression)\n",
        "        return str(result)\n",
        "    except Exception as e:\n",
        "        return f\"Error performing calculation: {e}\"\n",
        "\n",
        "# Example usage (optional - you can remove this part if you only want the function definition)\n",
        "# print(simple_calculator(\"10/2\"))\n",
        "# print(simple_calculator(\"5* (3 + 2)\"))\n",
        "# print(simple_calculator(\"abc\"))"
      ],
      "metadata": {
        "id": "iYD4znxgxrXb"
      },
      "execution_count": 14,
      "outputs": []
    },
    {
      "cell_type": "code",
      "source": [
        "# Step - 3 -> Create a Tool (Wrap/Integrate the Python function as Langchain Tool)"
      ],
      "metadata": {
        "id": "rtHOwEYAywRx"
      },
      "execution_count": null,
      "outputs": []
    },
    {
      "cell_type": "code",
      "source": [
        "from langchain.agents import Tool\n",
        "# from iYD4znxgxrXb import simple_calculator # Assuming the function is in the previous cell\n",
        "\n",
        "# Create a Langchain Tool from the simple_calculator function\n",
        "calculator_tool = Tool(\n",
        "    name=\"Simple Calculator\",\n",
        "    func=simple_calculator,\n",
        "    description=\"Useful for performing simple arithmetic calculations. Input should be a valid arithmetic expression string.\"\n",
        ")\n",
        "\n",
        "# You can now use 'calculator_tool' in a Langchain agent.\n",
        "# Example (optional - you can remove this part):\n",
        "# print(calculator_tool.run(\"5 + 3 * 2\"))"
      ],
      "metadata": {
        "id": "9UeiT_SRya18"
      },
      "execution_count": 16,
      "outputs": []
    },
    {
      "cell_type": "code",
      "source": [
        "# Step 4 - Create an Agent"
      ],
      "metadata": {
        "id": "1CBKn5eM2SGA"
      },
      "execution_count": 28,
      "outputs": []
    },
    {
      "cell_type": "code",
      "source": [
        "# Install necessary libraries\n",
        "# !pip install langchain-openai\n",
        "\n",
        "from langchain_openai import ChatOpenAI\n",
        "from langchain.agents import AgentExecutor, create_tool_calling_agent\n",
        "from google.colab import userdata\n",
        "# from iYD4znxgxrXb import simple_calculator # Removed the incorrect import\n",
        "from langchain.agents import Tool\n",
        "from langchain_core.prompts import ChatPromptTemplate\n",
        "\n",
        "# Get OpenAI API key from Colab secrets\n",
        "OPENAI_API_KEY = userdata.get('OPENAI_API_KEY')\n",
        "\n",
        "# Initialize the OpenAI LLM\n",
        "# Using the gpt-4o-mini model as 4.1-nano is not a standard OpenAI model name.\n",
        "llm = ChatOpenAI(model=\"gpt-4o-mini\", openai_api_key=OPENAI_API_KEY)\n",
        "\n",
        "# Create a Langchain Tool from the simple_calculator function\n",
        "calculator_tool = Tool(\n",
        "    name=\"Simple_Calculator\", # Changed name to remove space\n",
        "    func=simple_calculator,\n",
        "    description=\"Useful for performing simple arithmetic calculations. Input should be a valid arithmetic expression string.\"\n",
        ")\n",
        "\n",
        "tools = [calculator_tool]\n",
        "\n",
        "# Define a default prompt template\n",
        "prompt = ChatPromptTemplate.from_messages([\n",
        "    (\"system\", \"You are a helpful assistant that can use tools.\"),\n",
        "    (\"human\", \"{input}\"),\n",
        "    (\"placeholder\", \"{agent_scratchpad}\"),\n",
        "])\n",
        "\n",
        "# Create the agent\n",
        "agent = create_tool_calling_agent(llm, tools, prompt)\n",
        "\n",
        "# Initialize the agent executor\n",
        "agent_executor = AgentExecutor(agent=agent, tools=tools, verbose=True)\n",
        "\n",
        "print(\"Langchain agent with Simple_Calculator tool initialized.\")\n",
        "# You can now use agent_executor.invoke({\"input\": \"your query\"}) to interact with the agent."
      ],
      "metadata": {
        "colab": {
          "base_uri": "https://localhost:8080/"
        },
        "id": "XwULDJoDyIQ_",
        "outputId": "5ffd227d-bb90-42b7-f4f7-5e8f5de9c3f0"
      },
      "execution_count": 25,
      "outputs": [
        {
          "output_type": "stream",
          "name": "stdout",
          "text": [
            "Langchain agent with Simple_Calculator tool initialized.\n"
          ]
        }
      ]
    },
    {
      "cell_type": "code",
      "source": [
        "# Step - 5 -> Tool Calling (Call the agent executor to run the agent)"
      ],
      "metadata": {
        "id": "hkxNURX92WZA"
      },
      "execution_count": 29,
      "outputs": []
    },
    {
      "cell_type": "code",
      "source": [
        "# Assuming agent_executor is initialized in the previous cell\n",
        "# If not, please run the previous cell first\n",
        "\n",
        "# Example query to the agent\n",
        "query = \"What is 123 + 456?\"\n",
        "\n",
        "print(f\"Invoking agent with query: {query}\")\n",
        "result = agent_executor.invoke({\"input\": query})\n",
        "\n",
        "print(\"\\nAgent Response:\")\n",
        "print(result['output'])"
      ],
      "metadata": {
        "colab": {
          "base_uri": "https://localhost:8080/"
        },
        "id": "ZdjwqMYLz6h9",
        "outputId": "69c65d1a-6752-4b3f-ec22-4a33e98c1809"
      },
      "execution_count": 26,
      "outputs": [
        {
          "output_type": "stream",
          "name": "stdout",
          "text": [
            "Invoking agent with query: What is 123 + 456?\n",
            "\n",
            "\n",
            "\u001b[1m> Entering new AgentExecutor chain...\u001b[0m\n",
            "\u001b[32;1m\u001b[1;3m\n",
            "Invoking: `Simple_Calculator` with `123 + 456`\n",
            "\n",
            "\n",
            "\u001b[0m\u001b[36;1m\u001b[1;3m579\u001b[0m\u001b[32;1m\u001b[1;3mThe result of 123 + 456 is 579.\u001b[0m\n",
            "\n",
            "\u001b[1m> Finished chain.\u001b[0m\n",
            "\n",
            "Agent Response:\n",
            "The result of 123 + 456 is 579.\n"
          ]
        }
      ]
    },
    {
      "cell_type": "code",
      "source": [
        "# Assuming agent_executor is initialized in the previous cell\n",
        "# If not, please run the previous cell first\n",
        "\n",
        "print(\"Start chatting with the Langchain agent! Type 'quit' to exit.\")\n",
        "\n",
        "while True:\n",
        "    user_input = input(\"You: \")\n",
        "    if user_input.lower() == 'quit':\n",
        "        break\n",
        "\n",
        "    try:\n",
        "        print(f\"\\nInvoking agent with query: {user_input}\")\n",
        "        result = agent_executor.invoke({\"input\": user_input})\n",
        "\n",
        "        print(\"\\nAgent Response:\")\n",
        "        # Display only the final output from the agent\n",
        "        print(result['output'])\n",
        "\n",
        "    except Exception as e:\n",
        "        print(f\"An error occurred: {e}\")"
      ],
      "metadata": {
        "colab": {
          "base_uri": "https://localhost:8080/",
          "height": 1000
        },
        "id": "KUQffv0I1bdw",
        "outputId": "d8a07876-cfc8-4a14-c905-4f56c6f5ceac"
      },
      "execution_count": 27,
      "outputs": [
        {
          "output_type": "stream",
          "name": "stdout",
          "text": [
            "Start chatting with the Langchain agent! Type 'quit' to exit.\n",
            "You: hi\n",
            "\n",
            "Invoking agent with query: hi\n",
            "\n",
            "\n",
            "\u001b[1m> Entering new AgentExecutor chain...\u001b[0m\n",
            "\u001b[32;1m\u001b[1;3mHello! How can I assist you today?\u001b[0m\n",
            "\n",
            "\u001b[1m> Finished chain.\u001b[0m\n",
            "\n",
            "Agent Response:\n",
            "Hello! How can I assist you today?\n",
            "You: calculate 5 * 8 / 2\n",
            "\n",
            "Invoking agent with query: calculate 5 * 8 / 2\n",
            "\n",
            "\n",
            "\u001b[1m> Entering new AgentExecutor chain...\u001b[0m\n",
            "\u001b[32;1m\u001b[1;3m\n",
            "Invoking: `Simple_Calculator` with `5 * 8 / 2`\n",
            "\n",
            "\n",
            "\u001b[0m\u001b[36;1m\u001b[1;3m20.0\u001b[0m\u001b[32;1m\u001b[1;3mThe result of the calculation \\( 5 \\times 8 \\div 2 \\) is \\( 20.0 \\).\u001b[0m\n",
            "\n",
            "\u001b[1m> Finished chain.\u001b[0m\n",
            "\n",
            "Agent Response:\n",
            "The result of the calculation \\( 5 \\times 8 \\div 2 \\) is \\( 20.0 \\).\n",
            "You: give me theimp news from India today\n",
            "\n",
            "Invoking agent with query: give me theimp news from India today\n",
            "\n",
            "\n",
            "\u001b[1m> Entering new AgentExecutor chain...\u001b[0m\n",
            "\u001b[32;1m\u001b[1;3mI can't provide real-time news updates. However, you can check trusted news websites or apps for the latest news from India. Popular sources include The Times of India, The Hindu, and NDTV. If you're looking for news on specific topics or events, feel free to ask!\u001b[0m\n",
            "\n",
            "\u001b[1m> Finished chain.\u001b[0m\n",
            "\n",
            "Agent Response:\n",
            "I can't provide real-time news updates. However, you can check trusted news websites or apps for the latest news from India. Popular sources include The Times of India, The Hindu, and NDTV. If you're looking for news on specific topics or events, feel free to ask!\n"
          ]
        },
        {
          "output_type": "error",
          "ename": "KeyboardInterrupt",
          "evalue": "Interrupted by user",
          "traceback": [
            "\u001b[0;31m---------------------------------------------------------------------------\u001b[0m",
            "\u001b[0;31mKeyboardInterrupt\u001b[0m                         Traceback (most recent call last)",
            "\u001b[0;32m/tmp/ipython-input-1757877089.py\u001b[0m in \u001b[0;36m<cell line: 0>\u001b[0;34m()\u001b[0m\n\u001b[1;32m      5\u001b[0m \u001b[0;34m\u001b[0m\u001b[0m\n\u001b[1;32m      6\u001b[0m \u001b[0;32mwhile\u001b[0m \u001b[0;32mTrue\u001b[0m\u001b[0;34m:\u001b[0m\u001b[0;34m\u001b[0m\u001b[0;34m\u001b[0m\u001b[0m\n\u001b[0;32m----> 7\u001b[0;31m     \u001b[0muser_input\u001b[0m \u001b[0;34m=\u001b[0m \u001b[0minput\u001b[0m\u001b[0;34m(\u001b[0m\u001b[0;34m\"You: \"\u001b[0m\u001b[0;34m)\u001b[0m\u001b[0;34m\u001b[0m\u001b[0;34m\u001b[0m\u001b[0m\n\u001b[0m\u001b[1;32m      8\u001b[0m     \u001b[0;32mif\u001b[0m \u001b[0muser_input\u001b[0m\u001b[0;34m.\u001b[0m\u001b[0mlower\u001b[0m\u001b[0;34m(\u001b[0m\u001b[0;34m)\u001b[0m \u001b[0;34m==\u001b[0m \u001b[0;34m'quit'\u001b[0m\u001b[0;34m:\u001b[0m\u001b[0;34m\u001b[0m\u001b[0;34m\u001b[0m\u001b[0m\n\u001b[1;32m      9\u001b[0m         \u001b[0;32mbreak\u001b[0m\u001b[0;34m\u001b[0m\u001b[0;34m\u001b[0m\u001b[0m\n",
            "\u001b[0;32m/usr/local/lib/python3.12/dist-packages/ipykernel/kernelbase.py\u001b[0m in \u001b[0;36mraw_input\u001b[0;34m(self, prompt)\u001b[0m\n\u001b[1;32m   1175\u001b[0m                 \u001b[0;34m\"raw_input was called, but this frontend does not support input requests.\"\u001b[0m\u001b[0;34m\u001b[0m\u001b[0;34m\u001b[0m\u001b[0m\n\u001b[1;32m   1176\u001b[0m             )\n\u001b[0;32m-> 1177\u001b[0;31m         return self._input_request(\n\u001b[0m\u001b[1;32m   1178\u001b[0m             \u001b[0mstr\u001b[0m\u001b[0;34m(\u001b[0m\u001b[0mprompt\u001b[0m\u001b[0;34m)\u001b[0m\u001b[0;34m,\u001b[0m\u001b[0;34m\u001b[0m\u001b[0;34m\u001b[0m\u001b[0m\n\u001b[1;32m   1179\u001b[0m             \u001b[0mself\u001b[0m\u001b[0;34m.\u001b[0m\u001b[0m_parent_ident\u001b[0m\u001b[0;34m[\u001b[0m\u001b[0;34m\"shell\"\u001b[0m\u001b[0;34m]\u001b[0m\u001b[0;34m,\u001b[0m\u001b[0;34m\u001b[0m\u001b[0;34m\u001b[0m\u001b[0m\n",
            "\u001b[0;32m/usr/local/lib/python3.12/dist-packages/ipykernel/kernelbase.py\u001b[0m in \u001b[0;36m_input_request\u001b[0;34m(self, prompt, ident, parent, password)\u001b[0m\n\u001b[1;32m   1217\u001b[0m             \u001b[0;32mexcept\u001b[0m \u001b[0mKeyboardInterrupt\u001b[0m\u001b[0;34m:\u001b[0m\u001b[0;34m\u001b[0m\u001b[0;34m\u001b[0m\u001b[0m\n\u001b[1;32m   1218\u001b[0m                 \u001b[0;31m# re-raise KeyboardInterrupt, to truncate traceback\u001b[0m\u001b[0;34m\u001b[0m\u001b[0;34m\u001b[0m\u001b[0m\n\u001b[0;32m-> 1219\u001b[0;31m                 \u001b[0;32mraise\u001b[0m \u001b[0mKeyboardInterrupt\u001b[0m\u001b[0;34m(\u001b[0m\u001b[0;34m\"Interrupted by user\"\u001b[0m\u001b[0;34m)\u001b[0m \u001b[0;32mfrom\u001b[0m \u001b[0;32mNone\u001b[0m\u001b[0;34m\u001b[0m\u001b[0;34m\u001b[0m\u001b[0m\n\u001b[0m\u001b[1;32m   1220\u001b[0m             \u001b[0;32mexcept\u001b[0m \u001b[0mException\u001b[0m\u001b[0;34m:\u001b[0m\u001b[0;34m\u001b[0m\u001b[0;34m\u001b[0m\u001b[0m\n\u001b[1;32m   1221\u001b[0m                 \u001b[0mself\u001b[0m\u001b[0;34m.\u001b[0m\u001b[0mlog\u001b[0m\u001b[0;34m.\u001b[0m\u001b[0mwarning\u001b[0m\u001b[0;34m(\u001b[0m\u001b[0;34m\"Invalid Message:\"\u001b[0m\u001b[0;34m,\u001b[0m \u001b[0mexc_info\u001b[0m\u001b[0;34m=\u001b[0m\u001b[0;32mTrue\u001b[0m\u001b[0;34m)\u001b[0m\u001b[0;34m\u001b[0m\u001b[0;34m\u001b[0m\u001b[0m\n",
            "\u001b[0;31mKeyboardInterrupt\u001b[0m: Interrupted by user"
          ]
        }
      ]
    },
    {
      "cell_type": "code",
      "source": [
        "# End of the above example\n"
      ],
      "metadata": {
        "id": "qX9eaHvq1bQ7"
      },
      "execution_count": 30,
      "outputs": []
    },
    {
      "cell_type": "code",
      "source": [
        "# Example 2"
      ],
      "metadata": {
        "id": "g8TXi9mB2fqb"
      },
      "execution_count": 31,
      "outputs": []
    },
    {
      "cell_type": "code",
      "source": [
        "# Prompt to build a weather agent -> Build a weather agent using Langchain that provides real-time weather information for any input city."
      ],
      "metadata": {
        "id": "WqFegHKh2hMK"
      },
      "execution_count": null,
      "outputs": []
    },
    {
      "cell_type": "markdown",
      "metadata": {
        "id": "e28e16ee"
      },
      "source": [
        "# Task\n",
        "Build a weather agent using Langchain that provides real-time weather information for any input city."
      ]
    },
    {
      "cell_type": "markdown",
      "metadata": {
        "id": "0fb0d3cf"
      },
      "source": [
        "## Obtain weather api key\n",
        "\n",
        "### Subtask:\n",
        "Guide the user on how to obtain an API key from a weather service (e.g., OpenWeatherMap, WeatherAPI).\n"
      ]
    },
    {
      "cell_type": "markdown",
      "metadata": {
        "id": "8afd8210"
      },
      "source": [
        "**Reasoning**:\n",
        "Explain to the user how to obtain a weather API key, suggesting popular services and outlining the general steps.\n",
        "\n"
      ]
    },
    {
      "cell_type": "code",
      "metadata": {
        "colab": {
          "base_uri": "https://localhost:8080/"
        },
        "id": "40fb7276",
        "outputId": "1fc5aaef-741a-4976-b973-0ebbcf505535"
      },
      "source": [
        "print(\"To build a weather agent, you will need a free API key from a weather service.\")\n",
        "print(\"Popular options include OpenWeatherMap (https://openweathermap.org/) or WeatherAPI (https://www.weatherapi.com/).\")\n",
        "print(\"\\nHere are the general steps to obtain an API key from most weather services:\")\n",
        "print(\"1. Visit the website of your chosen weather service (e.g., OpenWeatherMap or WeatherAPI).\")\n",
        "print(\"2. Sign up for a free account.\")\n",
        "print(\"3. Once logged in, navigate to the section related to API keys or developer access.\")\n",
        "print(\"4. Generate your unique API key.\")\n",
        "print(\"\\nPlease keep your API key secure and readily available. You will need it in a later step to configure the weather agent.\")"
      ],
      "execution_count": 32,
      "outputs": [
        {
          "output_type": "stream",
          "name": "stdout",
          "text": [
            "To build a weather agent, you will need a free API key from a weather service.\n",
            "Popular options include OpenWeatherMap (https://openweathermap.org/) or WeatherAPI (https://www.weatherapi.com/).\n",
            "\n",
            "Here are the general steps to obtain an API key from most weather services:\n",
            "1. Visit the website of your chosen weather service (e.g., OpenWeatherMap or WeatherAPI).\n",
            "2. Sign up for a free account.\n",
            "3. Once logged in, navigate to the section related to API keys or developer access.\n",
            "4. Generate your unique API key.\n",
            "\n",
            "Please keep your API key secure and readily available. You will need it in a later step to configure the weather agent.\n"
          ]
        }
      ]
    },
    {
      "cell_type": "markdown",
      "metadata": {
        "id": "32d0aa23"
      },
      "source": [
        "## Install necessary libraries\n",
        "\n",
        "### Subtask:\n",
        "Install libraries required for making API calls (e.g., `requests`) and Langchain.\n"
      ]
    },
    {
      "cell_type": "markdown",
      "metadata": {
        "id": "514b30a9"
      },
      "source": [
        "**Reasoning**:\n",
        "Install the required libraries for making API calls and using Langchain with OpenAI.\n",
        "\n"
      ]
    },
    {
      "cell_type": "code",
      "metadata": {
        "colab": {
          "base_uri": "https://localhost:8080/",
          "height": 1000
        },
        "id": "d64f0fd7",
        "outputId": "0d0b5bfd-6d7e-47bf-9cca-d116b88f82bc"
      },
      "source": [
        "%pip install requests langchain-community langchain-openai"
      ],
      "execution_count": 33,
      "outputs": [
        {
          "output_type": "stream",
          "name": "stdout",
          "text": [
            "Requirement already satisfied: requests in /usr/local/lib/python3.12/dist-packages (2.32.4)\n",
            "Collecting langchain-community\n",
            "  Downloading langchain_community-0.3.29-py3-none-any.whl.metadata (2.9 kB)\n",
            "Requirement already satisfied: langchain-openai in /usr/local/lib/python3.12/dist-packages (0.3.32)\n",
            "Requirement already satisfied: charset_normalizer<4,>=2 in /usr/local/lib/python3.12/dist-packages (from requests) (3.4.3)\n",
            "Requirement already satisfied: idna<4,>=2.5 in /usr/local/lib/python3.12/dist-packages (from requests) (3.10)\n",
            "Requirement already satisfied: urllib3<3,>=1.21.1 in /usr/local/lib/python3.12/dist-packages (from requests) (2.5.0)\n",
            "Requirement already satisfied: certifi>=2017.4.17 in /usr/local/lib/python3.12/dist-packages (from requests) (2025.8.3)\n",
            "Collecting langchain-core<2.0.0,>=0.3.75 (from langchain-community)\n",
            "  Downloading langchain_core-0.3.75-py3-none-any.whl.metadata (5.7 kB)\n",
            "Requirement already satisfied: langchain<2.0.0,>=0.3.27 in /usr/local/lib/python3.12/dist-packages (from langchain-community) (0.3.27)\n",
            "Requirement already satisfied: SQLAlchemy<3,>=1.4 in /usr/local/lib/python3.12/dist-packages (from langchain-community) (2.0.43)\n",
            "Collecting requests\n",
            "  Downloading requests-2.32.5-py3-none-any.whl.metadata (4.9 kB)\n",
            "Requirement already satisfied: PyYAML>=5.3 in /usr/local/lib/python3.12/dist-packages (from langchain-community) (6.0.2)\n",
            "Requirement already satisfied: aiohttp<4.0.0,>=3.8.3 in /usr/local/lib/python3.12/dist-packages (from langchain-community) (3.12.15)\n",
            "Requirement already satisfied: tenacity!=8.4.0,<10,>=8.1.0 in /usr/local/lib/python3.12/dist-packages (from langchain-community) (8.5.0)\n",
            "Collecting dataclasses-json<0.7,>=0.6.7 (from langchain-community)\n",
            "  Downloading dataclasses_json-0.6.7-py3-none-any.whl.metadata (25 kB)\n",
            "Requirement already satisfied: pydantic-settings<3.0.0,>=2.10.1 in /usr/local/lib/python3.12/dist-packages (from langchain-community) (2.10.1)\n",
            "Requirement already satisfied: langsmith>=0.1.125 in /usr/local/lib/python3.12/dist-packages (from langchain-community) (0.4.16)\n",
            "Requirement already satisfied: httpx-sse<1.0.0,>=0.4.0 in /usr/local/lib/python3.12/dist-packages (from langchain-community) (0.4.1)\n",
            "Requirement already satisfied: numpy>=1.26.2 in /usr/local/lib/python3.12/dist-packages (from langchain-community) (2.0.2)\n",
            "Requirement already satisfied: openai<2.0.0,>=1.99.9 in /usr/local/lib/python3.12/dist-packages (from langchain-openai) (1.101.0)\n",
            "Requirement already satisfied: tiktoken<1,>=0.7 in /usr/local/lib/python3.12/dist-packages (from langchain-openai) (0.11.0)\n",
            "Requirement already satisfied: aiohappyeyeballs>=2.5.0 in /usr/local/lib/python3.12/dist-packages (from aiohttp<4.0.0,>=3.8.3->langchain-community) (2.6.1)\n",
            "Requirement already satisfied: aiosignal>=1.4.0 in /usr/local/lib/python3.12/dist-packages (from aiohttp<4.0.0,>=3.8.3->langchain-community) (1.4.0)\n",
            "Requirement already satisfied: attrs>=17.3.0 in /usr/local/lib/python3.12/dist-packages (from aiohttp<4.0.0,>=3.8.3->langchain-community) (25.3.0)\n",
            "Requirement already satisfied: frozenlist>=1.1.1 in /usr/local/lib/python3.12/dist-packages (from aiohttp<4.0.0,>=3.8.3->langchain-community) (1.7.0)\n",
            "Requirement already satisfied: multidict<7.0,>=4.5 in /usr/local/lib/python3.12/dist-packages (from aiohttp<4.0.0,>=3.8.3->langchain-community) (6.6.4)\n",
            "Requirement already satisfied: propcache>=0.2.0 in /usr/local/lib/python3.12/dist-packages (from aiohttp<4.0.0,>=3.8.3->langchain-community) (0.3.2)\n",
            "Requirement already satisfied: yarl<2.0,>=1.17.0 in /usr/local/lib/python3.12/dist-packages (from aiohttp<4.0.0,>=3.8.3->langchain-community) (1.20.1)\n",
            "Collecting marshmallow<4.0.0,>=3.18.0 (from dataclasses-json<0.7,>=0.6.7->langchain-community)\n",
            "  Downloading marshmallow-3.26.1-py3-none-any.whl.metadata (7.3 kB)\n",
            "Collecting typing-inspect<1,>=0.4.0 (from dataclasses-json<0.7,>=0.6.7->langchain-community)\n",
            "  Downloading typing_inspect-0.9.0-py3-none-any.whl.metadata (1.5 kB)\n",
            "Requirement already satisfied: langchain-text-splitters<1.0.0,>=0.3.9 in /usr/local/lib/python3.12/dist-packages (from langchain<2.0.0,>=0.3.27->langchain-community) (0.3.9)\n",
            "Requirement already satisfied: pydantic<3.0.0,>=2.7.4 in /usr/local/lib/python3.12/dist-packages (from langchain<2.0.0,>=0.3.27->langchain-community) (2.11.7)\n",
            "Requirement already satisfied: jsonpatch<2.0,>=1.33 in /usr/local/lib/python3.12/dist-packages (from langchain-core<2.0.0,>=0.3.75->langchain-community) (1.33)\n",
            "Requirement already satisfied: typing-extensions>=4.7 in /usr/local/lib/python3.12/dist-packages (from langchain-core<2.0.0,>=0.3.75->langchain-community) (4.15.0)\n",
            "Requirement already satisfied: packaging>=23.2 in /usr/local/lib/python3.12/dist-packages (from langchain-core<2.0.0,>=0.3.75->langchain-community) (25.0)\n",
            "Requirement already satisfied: httpx<1,>=0.23.0 in /usr/local/lib/python3.12/dist-packages (from langsmith>=0.1.125->langchain-community) (0.28.1)\n",
            "Requirement already satisfied: orjson>=3.9.14 in /usr/local/lib/python3.12/dist-packages (from langsmith>=0.1.125->langchain-community) (3.11.2)\n",
            "Requirement already satisfied: requests-toolbelt>=1.0.0 in /usr/local/lib/python3.12/dist-packages (from langsmith>=0.1.125->langchain-community) (1.0.0)\n",
            "Requirement already satisfied: zstandard>=0.23.0 in /usr/local/lib/python3.12/dist-packages (from langsmith>=0.1.125->langchain-community) (0.24.0)\n",
            "Requirement already satisfied: anyio<5,>=3.5.0 in /usr/local/lib/python3.12/dist-packages (from openai<2.0.0,>=1.99.9->langchain-openai) (4.10.0)\n",
            "Requirement already satisfied: distro<2,>=1.7.0 in /usr/local/lib/python3.12/dist-packages (from openai<2.0.0,>=1.99.9->langchain-openai) (1.9.0)\n",
            "Requirement already satisfied: jiter<1,>=0.4.0 in /usr/local/lib/python3.12/dist-packages (from openai<2.0.0,>=1.99.9->langchain-openai) (0.10.0)\n",
            "Requirement already satisfied: sniffio in /usr/local/lib/python3.12/dist-packages (from openai<2.0.0,>=1.99.9->langchain-openai) (1.3.1)\n",
            "Requirement already satisfied: tqdm>4 in /usr/local/lib/python3.12/dist-packages (from openai<2.0.0,>=1.99.9->langchain-openai) (4.67.1)\n",
            "Requirement already satisfied: python-dotenv>=0.21.0 in /usr/local/lib/python3.12/dist-packages (from pydantic-settings<3.0.0,>=2.10.1->langchain-community) (1.1.1)\n",
            "Requirement already satisfied: typing-inspection>=0.4.0 in /usr/local/lib/python3.12/dist-packages (from pydantic-settings<3.0.0,>=2.10.1->langchain-community) (0.4.1)\n",
            "Requirement already satisfied: greenlet>=1 in /usr/local/lib/python3.12/dist-packages (from SQLAlchemy<3,>=1.4->langchain-community) (3.2.4)\n",
            "Requirement already satisfied: regex>=2022.1.18 in /usr/local/lib/python3.12/dist-packages (from tiktoken<1,>=0.7->langchain-openai) (2024.11.6)\n",
            "Requirement already satisfied: httpcore==1.* in /usr/local/lib/python3.12/dist-packages (from httpx<1,>=0.23.0->langsmith>=0.1.125->langchain-community) (1.0.9)\n",
            "Requirement already satisfied: h11>=0.16 in /usr/local/lib/python3.12/dist-packages (from httpcore==1.*->httpx<1,>=0.23.0->langsmith>=0.1.125->langchain-community) (0.16.0)\n",
            "Requirement already satisfied: jsonpointer>=1.9 in /usr/local/lib/python3.12/dist-packages (from jsonpatch<2.0,>=1.33->langchain-core<2.0.0,>=0.3.75->langchain-community) (3.0.0)\n",
            "Requirement already satisfied: annotated-types>=0.6.0 in /usr/local/lib/python3.12/dist-packages (from pydantic<3.0.0,>=2.7.4->langchain<2.0.0,>=0.3.27->langchain-community) (0.7.0)\n",
            "Requirement already satisfied: pydantic-core==2.33.2 in /usr/local/lib/python3.12/dist-packages (from pydantic<3.0.0,>=2.7.4->langchain<2.0.0,>=0.3.27->langchain-community) (2.33.2)\n",
            "Collecting mypy-extensions>=0.3.0 (from typing-inspect<1,>=0.4.0->dataclasses-json<0.7,>=0.6.7->langchain-community)\n",
            "  Downloading mypy_extensions-1.1.0-py3-none-any.whl.metadata (1.1 kB)\n",
            "Downloading langchain_community-0.3.29-py3-none-any.whl (2.5 MB)\n",
            "\u001b[2K   \u001b[90m━━━━━━━━━━━━━━━━━━━━━━━━━━━━━━━━━━━━━━━━\u001b[0m \u001b[32m2.5/2.5 MB\u001b[0m \u001b[31m26.8 MB/s\u001b[0m eta \u001b[36m0:00:00\u001b[0m\n",
            "\u001b[?25hDownloading requests-2.32.5-py3-none-any.whl (64 kB)\n",
            "\u001b[2K   \u001b[90m━━━━━━━━━━━━━━━━━━━━━━━━━━━━━━━━━━━━━━━━\u001b[0m \u001b[32m64.7/64.7 kB\u001b[0m \u001b[31m7.1 MB/s\u001b[0m eta \u001b[36m0:00:00\u001b[0m\n",
            "\u001b[?25hDownloading dataclasses_json-0.6.7-py3-none-any.whl (28 kB)\n",
            "Downloading langchain_core-0.3.75-py3-none-any.whl (443 kB)\n",
            "\u001b[2K   \u001b[90m━━━━━━━━━━━━━━━━━━━━━━━━━━━━━━━━━━━━━━━━\u001b[0m \u001b[32m444.0/444.0 kB\u001b[0m \u001b[31m47.5 MB/s\u001b[0m eta \u001b[36m0:00:00\u001b[0m\n",
            "\u001b[?25hDownloading marshmallow-3.26.1-py3-none-any.whl (50 kB)\n",
            "\u001b[2K   \u001b[90m━━━━━━━━━━━━━━━━━━━━━━━━━━━━━━━━━━━━━━━━\u001b[0m \u001b[32m50.9/50.9 kB\u001b[0m \u001b[31m5.9 MB/s\u001b[0m eta \u001b[36m0:00:00\u001b[0m\n",
            "\u001b[?25hDownloading typing_inspect-0.9.0-py3-none-any.whl (8.8 kB)\n",
            "Downloading mypy_extensions-1.1.0-py3-none-any.whl (5.0 kB)\n",
            "Installing collected packages: requests, mypy-extensions, marshmallow, typing-inspect, dataclasses-json, langchain-core, langchain-community\n",
            "  Attempting uninstall: requests\n",
            "    Found existing installation: requests 2.32.4\n",
            "    Uninstalling requests-2.32.4:\n",
            "      Successfully uninstalled requests-2.32.4\n",
            "  Attempting uninstall: langchain-core\n",
            "    Found existing installation: langchain-core 0.3.74\n",
            "    Uninstalling langchain-core-0.3.74:\n",
            "      Successfully uninstalled langchain-core-0.3.74\n",
            "\u001b[31mERROR: pip's dependency resolver does not currently take into account all the packages that are installed. This behaviour is the source of the following dependency conflicts.\n",
            "google-colab 1.0.0 requires requests==2.32.4, but you have requests 2.32.5 which is incompatible.\u001b[0m\u001b[31m\n",
            "\u001b[0mSuccessfully installed dataclasses-json-0.6.7 langchain-community-0.3.29 langchain-core-0.3.75 marshmallow-3.26.1 mypy-extensions-1.1.0 requests-2.32.5 typing-inspect-0.9.0\n"
          ]
        },
        {
          "output_type": "display_data",
          "data": {
            "application/vnd.colab-display-data+json": {
              "pip_warning": {
                "packages": [
                  "langchain_core",
                  "requests"
                ]
              },
              "id": "2c20a43e79f147358712b4d658758885"
            }
          },
          "metadata": {}
        }
      ]
    },
    {
      "cell_type": "markdown",
      "metadata": {
        "id": "c18c0e24"
      },
      "source": [
        "## Define weather function\n",
        "\n",
        "### Subtask:\n",
        "Write a Python function that takes a city name as input and uses the weather API to fetch current weather data. Handle potential errors (e.g., invalid city name, API errors).\n"
      ]
    },
    {
      "cell_type": "markdown",
      "metadata": {
        "id": "74bb893c"
      },
      "source": [
        "**Reasoning**:\n",
        "Define the `get_weather` function to fetch weather data using the requests library and handle potential errors, incorporating steps 2 through 12 from the instructions.\n",
        "\n"
      ]
    },
    {
      "cell_type": "code",
      "metadata": {
        "id": "1e8bf81f"
      },
      "source": [
        "import requests\n",
        "from google.colab import userdata\n",
        "\n",
        "def get_weather(city: str) -> str:\n",
        "    \"\"\"\n",
        "    Fetches current weather data for a given city using a weather API.\n",
        "\n",
        "    Args:\n",
        "        city: The name of the city (string).\n",
        "\n",
        "    Returns:\n",
        "        A formatted string with weather information or an error message.\n",
        "    \"\"\"\n",
        "    try:\n",
        "        # Replace 'YOUR_WEATHER_API_KEY_NAME' with the actual name of your Colab secret\n",
        "        api_key = userdata.get('OPENWEATHERMAP_API_KEY') # Assuming OpenWeatherMap API key name\n",
        "        if not api_key:\n",
        "            return \"Error: Weather API key not found in Colab secrets.\"\n",
        "\n",
        "        # Using OpenWeatherMap API as an example\n",
        "        base_url = \"https://api.openweathermap.org/data/2.5/weather?\"\n",
        "        complete_url = base_url + \"q=\" + city + \"&appid=\" + api_key + \"&units=metric\" # Added units=metric for Celsius\n",
        "\n",
        "        response = requests.get(complete_url)\n",
        "        data = response.json()\n",
        "\n",
        "        if response.status_code != 200:\n",
        "            if response.status_code == 404:\n",
        "                return f\"Error: City '{city}' not found.\"\n",
        "            else:\n",
        "                return f\"Error fetching weather data: {data.get('message', 'Unknown error')}\"\n",
        "\n",
        "        # Extract relevant weather information (adjust according to your chosen API's JSON structure)\n",
        "        main_data = data.get(\"main\")\n",
        "        weather_data = data.get(\"weather\")[0] if data.get(\"weather\") else None\n",
        "        wind_data = data.get(\"wind\")\n",
        "\n",
        "        if not main_data or not weather_data:\n",
        "             return f\"Error: Could not parse weather data for '{city}'.\"\n",
        "\n",
        "        temperature = main_data.get(\"temp\")\n",
        "        pressure = main_data.get(\"pressure\")\n",
        "        humidity = main_data.get(\"humidity\")\n",
        "        description = weather_data.get(\"description\")\n",
        "        wind_speed = wind_data.get(\"speed\") if wind_data else \"N/A\"\n",
        "\n",
        "\n",
        "        # Format the weather information\n",
        "        weather_info = (\n",
        "            f\"Weather in {city}:\\n\"\n",
        "            f\"Temperature: {temperature}°C\\n\"\n",
        "            f\"Description: {description}\\n\"\n",
        "            f\"Humidity: {humidity}%\\n\"\n",
        "            f\"Pressure: {pressure} hPa\\n\"\n",
        "            f\"Wind Speed: {wind_speed} m/s\"\n",
        "        )\n",
        "\n",
        "        return weather_info\n",
        "\n",
        "    except requests.exceptions.RequestException as e:\n",
        "        return f\"Error during API request: {e}\"\n",
        "    except Exception as e:\n",
        "        return f\"An unexpected error occurred: {e}\"\n",
        "\n",
        "# Example usage (optional)\n",
        "# print(get_weather(\"London\"))\n",
        "# print(get_weather(\"InvalidCityName123\"))"
      ],
      "execution_count": 1,
      "outputs": []
    },
    {
      "cell_type": "markdown",
      "metadata": {
        "id": "53cd877e"
      },
      "source": [
        "## Wrap function as langchain tool\n",
        "\n",
        "### Subtask:\n",
        "Convert the weather function into a Langchain `Tool` with a clear description of its functionality and expected input.\n"
      ]
    },
    {
      "cell_type": "markdown",
      "metadata": {
        "id": "c142c357"
      },
      "source": [
        "**Reasoning**:\n",
        "Import the Tool class and create the weather_tool instance wrapping the get_weather function with a clear name and description.\n",
        "\n"
      ]
    },
    {
      "cell_type": "code",
      "metadata": {
        "colab": {
          "base_uri": "https://localhost:8080/"
        },
        "id": "b0cdeee3",
        "outputId": "5f3dd971-14a2-4e35-c248-2d32af962e6b"
      },
      "source": [
        "from langchain.agents import Tool\n",
        "\n",
        "# Assuming get_weather function is defined in a previous cell\n",
        "# from <cell_id_of_get_weather_function> import get_weather # No need to import if in the same notebook\n",
        "\n",
        "# Create a Langchain Tool from the get_weather function\n",
        "weather_tool = Tool(\n",
        "    name=\"Weather_Fetcher\",\n",
        "    func=get_weather,\n",
        "    description=\"Useful for fetching current weather information for a specific city. Input should be the name of the city as a string.\"\n",
        ")\n",
        "\n",
        "print(\"Weather_Fetcher tool created.\")\n",
        "# You can now use 'weather_tool' in a Langchain agent.\n",
        "# Example (optional):\n",
        "# print(weather_tool.run(\"Tokyo\"))"
      ],
      "execution_count": 2,
      "outputs": [
        {
          "output_type": "stream",
          "name": "stdout",
          "text": [
            "Weather_Fetcher tool created.\n"
          ]
        }
      ]
    },
    {
      "cell_type": "markdown",
      "metadata": {
        "id": "6a4cf6a8"
      },
      "source": [
        "## Initialize llm and agent\n",
        "\n",
        "### Subtask:\n",
        "Initialize an LLM (e.g., using OpenAI or another supported model) and create a Langchain agent, providing it with the weather tool.\n"
      ]
    },
    {
      "cell_type": "markdown",
      "metadata": {
        "id": "50f796a8"
      },
      "source": [
        "**Reasoning**:\n",
        "Initialize the LLM and create the Langchain agent with the weather tool.\n",
        "\n"
      ]
    },
    {
      "cell_type": "code",
      "metadata": {
        "colab": {
          "base_uri": "https://localhost:8080/"
        },
        "id": "e3b1c3ec",
        "outputId": "e0dff983-ae83-41ef-9d82-2dcb0c8160c5"
      },
      "source": [
        "from langchain_openai import ChatOpenAI\n",
        "from langchain.agents import AgentExecutor, create_tool_calling_agent\n",
        "from langchain_core.prompts import ChatPromptTemplate\n",
        "from google.colab import userdata\n",
        "\n",
        "# Assuming weather_tool is defined in a previous cell\n",
        "# from <cell_id_of_weather_tool_definition> import weather_tool # No need to import if in the same notebook\n",
        "\n",
        "# Get OpenAI API key from Colab secrets\n",
        "OPENAI_API_KEY = userdata.get('OPENAI_API_KEY')\n",
        "\n",
        "# Initialize the OpenAI LLM\n",
        "llm = ChatOpenAI(model=\"gpt-4o-mini\", openai_api_key=OPENAI_API_KEY)\n",
        "\n",
        "# Create a list of tools for the agent\n",
        "tools = [weather_tool]\n",
        "\n",
        "# Define a default prompt template\n",
        "prompt = ChatPromptTemplate.from_messages([\n",
        "    (\"system\", \"You are a helpful assistant that can fetch weather information using the provided tools.\"),\n",
        "    (\"human\", \"{input}\"),\n",
        "    (\"placeholder\", \"{agent_scratchpad}\"),\n",
        "])\n",
        "\n",
        "# Create the agent\n",
        "agent = create_tool_calling_agent(llm, tools, prompt)\n",
        "\n",
        "# Initialize the agent executor\n",
        "agent_executor = AgentExecutor(agent=agent, tools=tools, verbose=True)\n",
        "\n",
        "print(\"Langchain agent with Weather_Fetcher tool initialized.\")"
      ],
      "execution_count": 3,
      "outputs": [
        {
          "output_type": "stream",
          "name": "stdout",
          "text": [
            "Langchain agent with Weather_Fetcher tool initialized.\n"
          ]
        }
      ]
    },
    {
      "cell_type": "markdown",
      "metadata": {
        "id": "65fc75a9"
      },
      "source": [
        "## Create dynamic interaction loop\n",
        "\n",
        "### Subtask:\n",
        "Implement a loop that takes user input (city name), invokes the agent with the input, and displays the agent's response (the weather information).\n"
      ]
    },
    {
      "cell_type": "markdown",
      "metadata": {
        "id": "6fbee982"
      },
      "source": [
        "**Reasoning**:\n",
        "Implement the chat loop to interact with the agent and display its responses.\n",
        "\n"
      ]
    },
    {
      "cell_type": "code",
      "metadata": {
        "colab": {
          "base_uri": "https://localhost:8080/",
          "height": 709
        },
        "id": "be5e2426",
        "outputId": "f957b28b-29c9-448d-a195-2af738cd4830"
      },
      "source": [
        "print(\"Start chatting with the Langchain weather agent! Type 'quit' to exit.\")\n",
        "\n",
        "while True:\n",
        "    user_input = input(\"You: \")\n",
        "    if user_input.lower() == 'quit':\n",
        "        break\n",
        "\n",
        "    try:\n",
        "        print(f\"\\nInvoking agent with query: {user_input}\")\n",
        "        result = agent_executor.invoke({\"input\": user_input})\n",
        "\n",
        "        print(\"\\nAgent Response:\")\n",
        "        # Display only the final output from the agent\n",
        "        print(result['output'])\n",
        "\n",
        "    except Exception as e:\n",
        "        print(f\"An error occurred: {e}\")"
      ],
      "execution_count": 4,
      "outputs": [
        {
          "output_type": "stream",
          "name": "stdout",
          "text": [
            "Start chatting with the Langchain weather agent! Type 'quit' to exit.\n",
            "You: Pune\n",
            "\n",
            "Invoking agent with query: Pune\n",
            "\n",
            "\n",
            "\u001b[1m> Entering new AgentExecutor chain...\u001b[0m\n",
            "\u001b[32;1m\u001b[1;3m\n",
            "Invoking: `Weather_Fetcher` with `Pune`\n",
            "\n",
            "\n",
            "\u001b[0m\u001b[36;1m\u001b[1;3mAn unexpected error occurred: Secret OPENWEATHERMAP_API_KEY does not exist.\u001b[0m\u001b[32;1m\u001b[1;3mIt seems there is an issue with fetching the weather data for Pune at the moment. Please try again later.\u001b[0m\n",
            "\n",
            "\u001b[1m> Finished chain.\u001b[0m\n",
            "\n",
            "Agent Response:\n",
            "It seems there is an issue with fetching the weather data for Pune at the moment. Please try again later.\n"
          ]
        },
        {
          "output_type": "error",
          "ename": "KeyboardInterrupt",
          "evalue": "Interrupted by user",
          "traceback": [
            "\u001b[0;31m---------------------------------------------------------------------------\u001b[0m",
            "\u001b[0;31mKeyboardInterrupt\u001b[0m                         Traceback (most recent call last)",
            "\u001b[0;32m/tmp/ipython-input-590043666.py\u001b[0m in \u001b[0;36m<cell line: 0>\u001b[0;34m()\u001b[0m\n\u001b[1;32m      2\u001b[0m \u001b[0;34m\u001b[0m\u001b[0m\n\u001b[1;32m      3\u001b[0m \u001b[0;32mwhile\u001b[0m \u001b[0;32mTrue\u001b[0m\u001b[0;34m:\u001b[0m\u001b[0;34m\u001b[0m\u001b[0;34m\u001b[0m\u001b[0m\n\u001b[0;32m----> 4\u001b[0;31m     \u001b[0muser_input\u001b[0m \u001b[0;34m=\u001b[0m \u001b[0minput\u001b[0m\u001b[0;34m(\u001b[0m\u001b[0;34m\"You: \"\u001b[0m\u001b[0;34m)\u001b[0m\u001b[0;34m\u001b[0m\u001b[0;34m\u001b[0m\u001b[0m\n\u001b[0m\u001b[1;32m      5\u001b[0m     \u001b[0;32mif\u001b[0m \u001b[0muser_input\u001b[0m\u001b[0;34m.\u001b[0m\u001b[0mlower\u001b[0m\u001b[0;34m(\u001b[0m\u001b[0;34m)\u001b[0m \u001b[0;34m==\u001b[0m \u001b[0;34m'quit'\u001b[0m\u001b[0;34m:\u001b[0m\u001b[0;34m\u001b[0m\u001b[0;34m\u001b[0m\u001b[0m\n\u001b[1;32m      6\u001b[0m         \u001b[0;32mbreak\u001b[0m\u001b[0;34m\u001b[0m\u001b[0;34m\u001b[0m\u001b[0m\n",
            "\u001b[0;32m/usr/local/lib/python3.12/dist-packages/ipykernel/kernelbase.py\u001b[0m in \u001b[0;36mraw_input\u001b[0;34m(self, prompt)\u001b[0m\n\u001b[1;32m   1175\u001b[0m                 \u001b[0;34m\"raw_input was called, but this frontend does not support input requests.\"\u001b[0m\u001b[0;34m\u001b[0m\u001b[0;34m\u001b[0m\u001b[0m\n\u001b[1;32m   1176\u001b[0m             )\n\u001b[0;32m-> 1177\u001b[0;31m         return self._input_request(\n\u001b[0m\u001b[1;32m   1178\u001b[0m             \u001b[0mstr\u001b[0m\u001b[0;34m(\u001b[0m\u001b[0mprompt\u001b[0m\u001b[0;34m)\u001b[0m\u001b[0;34m,\u001b[0m\u001b[0;34m\u001b[0m\u001b[0;34m\u001b[0m\u001b[0m\n\u001b[1;32m   1179\u001b[0m             \u001b[0mself\u001b[0m\u001b[0;34m.\u001b[0m\u001b[0m_parent_ident\u001b[0m\u001b[0;34m[\u001b[0m\u001b[0;34m\"shell\"\u001b[0m\u001b[0;34m]\u001b[0m\u001b[0;34m,\u001b[0m\u001b[0;34m\u001b[0m\u001b[0;34m\u001b[0m\u001b[0m\n",
            "\u001b[0;32m/usr/local/lib/python3.12/dist-packages/ipykernel/kernelbase.py\u001b[0m in \u001b[0;36m_input_request\u001b[0;34m(self, prompt, ident, parent, password)\u001b[0m\n\u001b[1;32m   1217\u001b[0m             \u001b[0;32mexcept\u001b[0m \u001b[0mKeyboardInterrupt\u001b[0m\u001b[0;34m:\u001b[0m\u001b[0;34m\u001b[0m\u001b[0;34m\u001b[0m\u001b[0m\n\u001b[1;32m   1218\u001b[0m                 \u001b[0;31m# re-raise KeyboardInterrupt, to truncate traceback\u001b[0m\u001b[0;34m\u001b[0m\u001b[0;34m\u001b[0m\u001b[0m\n\u001b[0;32m-> 1219\u001b[0;31m                 \u001b[0;32mraise\u001b[0m \u001b[0mKeyboardInterrupt\u001b[0m\u001b[0;34m(\u001b[0m\u001b[0;34m\"Interrupted by user\"\u001b[0m\u001b[0;34m)\u001b[0m \u001b[0;32mfrom\u001b[0m \u001b[0;32mNone\u001b[0m\u001b[0;34m\u001b[0m\u001b[0;34m\u001b[0m\u001b[0m\n\u001b[0m\u001b[1;32m   1220\u001b[0m             \u001b[0;32mexcept\u001b[0m \u001b[0mException\u001b[0m\u001b[0;34m:\u001b[0m\u001b[0;34m\u001b[0m\u001b[0;34m\u001b[0m\u001b[0m\n\u001b[1;32m   1221\u001b[0m                 \u001b[0mself\u001b[0m\u001b[0;34m.\u001b[0m\u001b[0mlog\u001b[0m\u001b[0;34m.\u001b[0m\u001b[0mwarning\u001b[0m\u001b[0;34m(\u001b[0m\u001b[0;34m\"Invalid Message:\"\u001b[0m\u001b[0;34m,\u001b[0m \u001b[0mexc_info\u001b[0m\u001b[0;34m=\u001b[0m\u001b[0;32mTrue\u001b[0m\u001b[0;34m)\u001b[0m\u001b[0;34m\u001b[0m\u001b[0;34m\u001b[0m\u001b[0m\n",
            "\u001b[0;31mKeyboardInterrupt\u001b[0m: Interrupted by user"
          ]
        }
      ]
    },
    {
      "cell_type": "code",
      "source": [
        "# Readily available example code below - connects with open geocoding weather info and retrives"
      ],
      "metadata": {
        "id": "Gcy66wcv4es-"
      },
      "execution_count": 5,
      "outputs": []
    },
    {
      "cell_type": "code",
      "source": [
        "# STEP 1: Install dependencies\n",
        "!pip install -q langchain langchain-openai requests pytz\n",
        "\n",
        "# STEP 2: Imports and API Key\n",
        "import os\n",
        "import requests\n",
        "from datetime import datetime\n",
        "import pytz\n",
        "from google.colab import userdata\n",
        "from langchain.agents import Tool, initialize_agent\n",
        "from langchain.agents.agent_types import AgentType\n",
        "from langchain_openai import ChatOpenAI\n",
        "\n",
        "# STEP 3: Set OpenAI API Key securely\n",
        "os.environ[\"OPENAI_API_KEY\"] = userdata.get(\"OPENAI_API_KEY\")  # 🔐\n",
        "\n",
        "# STEP 4: Define the main tool function\n",
        "def get_weather_and_time(city: str) -> str:\n",
        "    try:\n",
        "        # Geocoding API to get lat/lon\n",
        "        geo_url = f\"https://geocoding-api.open-meteo.com/v1/search?name={city}\"\n",
        "        geo_response = requests.get(geo_url).json()\n",
        "\n",
        "        if \"results\" not in geo_response:\n",
        "            return f\"City '{city}' not found.\"\n",
        "\n",
        "        lat = geo_response[\"results\"][0][\"latitude\"]\n",
        "        lon = geo_response[\"results\"][0][\"longitude\"]\n",
        "        name = geo_response[\"results\"][0][\"name\"]\n",
        "        country = geo_response[\"results\"][0].get(\"country\", \"\")\n",
        "\n",
        "        # Weather API\n",
        "        weather_url = f\"https://api.open-meteo.com/v1/forecast?latitude={lat}&longitude={lon}&current_weather=true\"\n",
        "        weather_response = requests.get(weather_url).json()\n",
        "        weather = weather_response[\"current_weather\"]\n",
        "        temp = weather[\"temperature\"]\n",
        "        wind = weather[\"windspeed\"]\n",
        "\n",
        "        # IST time\n",
        "        ist_time = datetime.now(pytz.timezone(\"Asia/Kolkata\")).strftime(\"%I:%M %p\")\n",
        "\n",
        "        return (f\"📍 {name}, {country}\\n\"\n",
        "                f\"🌡️ Temperature: {temp}°C\\n\"\n",
        "                f\"💨 Wind Speed: {wind} km/h\\n\"\n",
        "                f\"🕒 Current IST Time: {ist_time}\")\n",
        "    except Exception as e:\n",
        "        return f\"Failed to fetch info: {str(e)}\"\n",
        "\n",
        "# STEP 5: Wrap the function in a LangChain Tool\n",
        "weather_time_tool = Tool(\n",
        "    name=\"weather_time_tool\",\n",
        "    func=get_weather_and_time,\n",
        "    description=\"Provides current weather and IST time for a given city. Input should be a city name.\"\n",
        ")\n",
        "\n",
        "# STEP 6: Initialize LangChain Agent\n",
        "llm = ChatOpenAI(model=\"gpt-4.1-nano\", temperature=0)\n",
        "agent = initialize_agent(\n",
        "    tools=[weather_time_tool],\n",
        "    llm=llm,\n",
        "    agent=AgentType.OPENAI_FUNCTIONS,\n",
        "    verbose=True\n",
        ")\n",
        "\n",
        "# STEP 7: Take user input and invoke agent\n",
        "city = input(\"🌍 Enter a city name: \").strip()\n",
        "response = agent.run(f\"What's the weather and IST time in {city}?\")\n",
        "print(\"\\n💬 Agent response:\\n\", response)\n"
      ],
      "metadata": {
        "colab": {
          "base_uri": "https://localhost:8080/"
        },
        "id": "hq2ymvIk44iM",
        "outputId": "429b89dd-74db-4177-f4f2-284048128193"
      },
      "execution_count": 7,
      "outputs": [
        {
          "output_type": "stream",
          "name": "stdout",
          "text": [
            "🌍 Enter a city name: London\n",
            "\n",
            "\n",
            "\u001b[1m> Entering new AgentExecutor chain...\u001b[0m\n",
            "\u001b[32;1m\u001b[1;3m\n",
            "Invoking: `weather_time_tool` with `London`\n",
            "\n",
            "\n",
            "\u001b[0m\u001b[36;1m\u001b[1;3m📍 London, United Kingdom\n",
            "🌡️ Temperature: 14.1°C\n",
            "💨 Wind Speed: 4.8 km/h\n",
            "🕒 Current IST Time: 10:59 AM\u001b[0m\u001b[32;1m\u001b[1;3mThe current weather in London is 14.1°C with a wind speed of 4.8 km/h. The IST time in London is 10:59 AM.\u001b[0m\n",
            "\n",
            "\u001b[1m> Finished chain.\u001b[0m\n",
            "\n",
            "💬 Agent response:\n",
            " The current weather in London is 14.1°C with a wind speed of 4.8 km/h. The IST time in London is 10:59 AM.\n"
          ]
        }
      ]
    },
    {
      "cell_type": "code",
      "source": [
        "# Weather information Agent -> Gives infor about - Country, Current time, IST Time, Temp, Wind Speed info for any city as input."
      ],
      "metadata": {
        "id": "3JLJ6bb95Xuw"
      },
      "execution_count": 9,
      "outputs": []
    },
    {
      "cell_type": "code",
      "source": [
        "# STEP 1: Install dependencies\n",
        "!pip install -q langchain langchain-openai requests pytz\n",
        "\n",
        "# STEP 2: Imports and API Key\n",
        "import os\n",
        "import requests\n",
        "from datetime import datetime\n",
        "import pytz\n",
        "from google.colab import userdata\n",
        "from langchain.agents import Tool, initialize_agent\n",
        "from langchain.agents.agent_types import AgentType\n",
        "from langchain_openai import ChatOpenAI\n",
        "\n",
        "# STEP 3: Set your OpenAI API Key\n",
        "os.environ[\"OPENAI_API_KEY\"] = userdata.get(\"OPENAI_API_KEY\")\n",
        "\n",
        "# STEP 4: Define the tool\n",
        "def get_weather_and_times(city: str) -> str:\n",
        "    try:\n",
        "        # Geocode to get latitude, longitude, timezone\n",
        "        geo_url = f\"https://geocoding-api.open-meteo.com/v1/search?name={city}\"\n",
        "        geo_response = requests.get(geo_url).json()\n",
        "        if \"results\" not in geo_response:\n",
        "            return f\"❌ City '{city}' not found.\"\n",
        "\n",
        "        info = geo_response[\"results\"][0]\n",
        "        name = info[\"name\"]\n",
        "        country = info.get(\"country\", \"\")\n",
        "        lat = info[\"latitude\"]\n",
        "        lon = info[\"longitude\"]\n",
        "        timezone = info.get(\"timezone\", \"UTC\")\n",
        "\n",
        "        # Get weather data\n",
        "        weather_url = f\"https://api.open-meteo.com/v1/forecast?latitude={lat}&longitude={lon}&current_weather=true\"\n",
        "        weather_data = requests.get(weather_url).json()\n",
        "        current = weather_data[\"current_weather\"]\n",
        "        temp = current[\"temperature\"]\n",
        "        wind = current[\"windspeed\"]\n",
        "\n",
        "        # Local time at city\n",
        "        city_time = datetime.now(pytz.timezone(timezone)).strftime(\"%I:%M %p\")\n",
        "\n",
        "        # Current IST time\n",
        "        ist_time = datetime.now(pytz.timezone(\"Asia/Kolkata\")).strftime(\"%I:%M %p\")\n",
        "\n",
        "        return (f\"📍 {name}, {country}\\n\"\n",
        "                f\"🕑 Local Time: {city_time} ({timezone})\\n\"\n",
        "                f\"🕒 IST Time: {ist_time}\\n\"\n",
        "                f\"🌡️ Temperature: {temp}°C\\n\"\n",
        "                f\"💨 Wind: {wind} km/h\")\n",
        "    except Exception as e:\n",
        "        return f\"⚠️ Error: {str(e)}\"\n",
        "\n",
        "# STEP 5: Wrap tool\n",
        "weather_tool = Tool(\n",
        "    name=\"weather_time_tool\",\n",
        "    func=get_weather_and_times,\n",
        "    description=\"Get weather, local time, and IST time. Input should be a city name.\"\n",
        ")\n",
        "\n",
        "# STEP 6: Create Agent\n",
        "llm = ChatOpenAI(model=\"gpt-4.1-nano\", temperature=0)\n",
        "agent = initialize_agent(\n",
        "    tools=[weather_tool],\n",
        "    llm=llm,\n",
        "    agent=AgentType.OPENAI_FUNCTIONS,\n",
        "    verbose=True\n",
        ")\n",
        "\n",
        "# STEP 7: Run in loop\n",
        "print(\"🌍 Ask for any city's weather & time. Type 'exit' to quit.\\n\")\n",
        "while True:\n",
        "    city = input(\"Enter city name: \").strip()\n",
        "    if city.lower() in [\"exit\", \"quit\"]:\n",
        "        print(\"👋 Exiting. Stay informed!\")\n",
        "        break\n",
        "    response = agent.run(f\"Get weather and time in {city}\")\n",
        "    print(\"\\n💬 Agent response:\\n\", response, \"\\n\" + \"-\"*60 + \"\\n\")\n"
      ],
      "metadata": {
        "colab": {
          "base_uri": "https://localhost:8080/"
        },
        "id": "UXn4prs95vq5",
        "outputId": "78f0a03d-b885-4558-9618-f1ab18a6319b"
      },
      "execution_count": 8,
      "outputs": [
        {
          "output_type": "stream",
          "name": "stdout",
          "text": [
            "🌍 Ask for any city's weather & time. Type 'exit' to quit.\n",
            "\n",
            "Enter city name: Mumbai\n",
            "\n",
            "\n",
            "\u001b[1m> Entering new AgentExecutor chain...\u001b[0m\n",
            "\u001b[32;1m\u001b[1;3m\n",
            "Invoking: `weather_time_tool` with `Mumbai`\n",
            "\n",
            "\n",
            "\u001b[0m\u001b[36;1m\u001b[1;3m📍 Mumbai, India\n",
            "🕑 Local Time: 11:00 AM (Asia/Kolkata)\n",
            "🕒 IST Time: 11:00 AM\n",
            "🌡️ Temperature: 27.0°C\n",
            "💨 Wind: 12.6 km/h\u001b[0m\u001b[32;1m\u001b[1;3mThe current local time in Mumbai is 11:00 AM. The temperature is approximately 27.0°C with a wind speed of 12.6 km/h.\u001b[0m\n",
            "\n",
            "\u001b[1m> Finished chain.\u001b[0m\n",
            "\n",
            "💬 Agent response:\n",
            " The current local time in Mumbai is 11:00 AM. The temperature is approximately 27.0°C with a wind speed of 12.6 km/h. \n",
            "------------------------------------------------------------\n",
            "\n",
            "Enter city name: Pune\n",
            "\n",
            "\n",
            "\u001b[1m> Entering new AgentExecutor chain...\u001b[0m\n",
            "\u001b[32;1m\u001b[1;3m\n",
            "Invoking: `weather_time_tool` with `Pune`\n",
            "\n",
            "\n",
            "\u001b[0m\u001b[36;1m\u001b[1;3m📍 Pune, India\n",
            "🕑 Local Time: 11:00 AM (Asia/Kolkata)\n",
            "🕒 IST Time: 11:00 AM\n",
            "🌡️ Temperature: 26.5°C\n",
            "💨 Wind: 13.3 km/h\u001b[0m\u001b[32;1m\u001b[1;3mThe current weather in Pune is 26.5°C with a wind speed of 13.3 km/h. The local time in Pune is 11:00 AM.\u001b[0m\n",
            "\n",
            "\u001b[1m> Finished chain.\u001b[0m\n",
            "\n",
            "💬 Agent response:\n",
            " The current weather in Pune is 26.5°C with a wind speed of 13.3 km/h. The local time in Pune is 11:00 AM. \n",
            "------------------------------------------------------------\n",
            "\n",
            "Enter city name: London\n",
            "\n",
            "\n",
            "\u001b[1m> Entering new AgentExecutor chain...\u001b[0m\n",
            "\u001b[32;1m\u001b[1;3m\n",
            "Invoking: `weather_time_tool` with `London`\n",
            "\n",
            "\n",
            "\u001b[0m\u001b[36;1m\u001b[1;3m📍 London, United Kingdom\n",
            "🕑 Local Time: 06:30 AM (Europe/London)\n",
            "🕒 IST Time: 11:00 AM\n",
            "🌡️ Temperature: 14.1°C\n",
            "💨 Wind: 4.4 km/h\u001b[0m\u001b[32;1m\u001b[1;3mThe current weather in London is 14.1°C with a wind speed of 4.4 km/h. The local time in London is 6:30 AM, and the IST time is 11:00 AM.\u001b[0m\n",
            "\n",
            "\u001b[1m> Finished chain.\u001b[0m\n",
            "\n",
            "💬 Agent response:\n",
            " The current weather in London is 14.1°C with a wind speed of 4.4 km/h. The local time in London is 6:30 AM, and the IST time is 11:00 AM. \n",
            "------------------------------------------------------------\n",
            "\n",
            "Enter city name: New-York\n",
            "\n",
            "\n",
            "\u001b[1m> Entering new AgentExecutor chain...\u001b[0m\n",
            "\u001b[32;1m\u001b[1;3m\n",
            "Invoking: `weather_time_tool` with `New York`\n",
            "\n",
            "\n",
            "\u001b[0m\u001b[36;1m\u001b[1;3m📍 New York, United States\n",
            "🕑 Local Time: 01:31 AM (America/New_York)\n",
            "🕒 IST Time: 11:01 AM\n",
            "🌡️ Temperature: 19.2°C\n",
            "💨 Wind: 6.4 km/h\u001b[0m\u001b[32;1m\u001b[1;3mThe current local time in New York is 1:31 AM, and the temperature is 19.2°C with a wind speed of 6.4 km/h.\u001b[0m\n",
            "\n",
            "\u001b[1m> Finished chain.\u001b[0m\n",
            "\n",
            "💬 Agent response:\n",
            " The current local time in New York is 1:31 AM, and the temperature is 19.2°C with a wind speed of 6.4 km/h. \n",
            "------------------------------------------------------------\n",
            "\n",
            "Enter city name: Capetown\n",
            "\n",
            "\n",
            "\u001b[1m> Entering new AgentExecutor chain...\u001b[0m\n",
            "\u001b[32;1m\u001b[1;3m\n",
            "Invoking: `weather_time_tool` with `Capetown`\n",
            "\n",
            "\n",
            "\u001b[0m\u001b[36;1m\u001b[1;3m📍 Capetown, United States\n",
            "🕑 Local Time: 10:31 PM (America/Los_Angeles)\n",
            "🕒 IST Time: 11:01 AM\n",
            "🌡️ Temperature: 14.4°C\n",
            "💨 Wind: 28.1 km/h\u001b[0m\u001b[32;1m\u001b[1;3mThe current weather in Capetown is 14.4°C with a wind speed of 28.1 km/h. The local time there is 10:31 PM.\u001b[0m\n",
            "\n",
            "\u001b[1m> Finished chain.\u001b[0m\n",
            "\n",
            "💬 Agent response:\n",
            " The current weather in Capetown is 14.4°C with a wind speed of 28.1 km/h. The local time there is 10:31 PM. \n",
            "------------------------------------------------------------\n",
            "\n",
            "Enter city name: exit\n",
            "👋 Exiting. Stay informed!\n"
          ]
        }
      ]
    },
    {
      "cell_type": "code",
      "source": [
        "# Prompt =>  Can we add a real time traffic info agent along with weather agent above - to give live traffic infor. Also suggest routes to travel from a source loc to destination loc in that input city. City, source loc & destination loc shall be dynamic."
      ],
      "metadata": {
        "id": "gM0ueex65wvB"
      },
      "execution_count": 11,
      "outputs": []
    },
    {
      "cell_type": "code",
      "source": [
        "# STEP 1: Install dependencies\n",
        "# In your VS Code terminal, run:\n",
        "# pip install langchain langchain-openai requests pytz python-dotenv\n",
        "\n",
        "import requests\n",
        "from datetime import datetime\n",
        "import pytz\n",
        "import os\n",
        "from dotenv import load_dotenv # Import load_dotenv\n",
        "from langchain.agents import Tool, initialize_agent\n",
        "from langchain.agents.agent_types import AgentType\n",
        "from langchain_openai import ChatOpenAI\n",
        "\n",
        "# STEP 2: Load environment variables from .env file\n",
        "load_dotenv()\n",
        "\n",
        "# STEP 3: Set your OpenAI API Key from environment variables\n",
        "# Make sure you have OPENAI_API_KEY=your_api_key in your .env file\n",
        "os.environ[\"OPENAI_API_KEY\"] = os.getenv(\"OPENAI_API_KEY\") # 🔐\n",
        "\n",
        "# STEP 4: Define the tool (Assuming get_weather_and_times function is defined elsewhere or included here)\n",
        "# You would typically put your get_weather_and_times function here or import it\n",
        "def get_weather_and_times(city: str) -> str:\n",
        "    try:\n",
        "        # Geocode to get latitude, longitude, timezone\n",
        "        geo_url = f\"https://geocoding-api.open-meteo.com/v1/search?name={city}\"\n",
        "        geo_response = requests.get(geo_url).json()\n",
        "        if \"results\" not in geo_response:\n",
        "            return f\"❌ City '{city}' not found.\"\n",
        "\n",
        "        info = geo_response[\"results\"][0]\n",
        "        name = info[\"name\"]\n",
        "        country = info.get(\"country\", \"\")\n",
        "        lat = info[\"latitude\"]\n",
        "        lon = info[\"longitude\"]\n",
        "        timezone = info.get(\"timezone\", \"UTC\")\n",
        "\n",
        "        # Get weather data\n",
        "        weather_url = f\"https://api.open-meteo.com/v1/forecast?latitude={lat}&longitude={lon}&current_weather=true\"\n",
        "        weather_data = requests.get(weather_url).json()\n",
        "        current = weather_data[\"current_weather\"]\n",
        "        temp = current[\"temperature\"]\n",
        "        wind = current[\"windspeed\"]\n",
        "\n",
        "        # Local time at city\n",
        "        city_time = datetime.now(pytz.timezone(timezone)).strftime(\"%I:%M %p\")\n",
        "\n",
        "        # Current IST time\n",
        "        ist_time = datetime.now(pytz.timezone(\"Asia/Kolkata\")).strftime(\"%I:%M %p\")\n",
        "\n",
        "        return (f\"📍 {name}, {country}\\n\"\n",
        "                f\"🕑 Local Time: {city_time} ({timezone})\\n\"\n",
        "                f\"🕒 IST Time: {ist_time}\\n\"\n",
        "                f\"🌡️ Temperature: {temp}°C\\n\"\n",
        "                f\"💨 Wind: {wind} km/h\")\n",
        "    except Exception as e:\n",
        "        return f\"⚠️ Error: {str(e)}\"\n",
        "\n",
        "\n",
        "# STEP 5: Wrap tool\n",
        "weather_tool = Tool(\n",
        "    name=\"weather_time_tool\",\n",
        "    func=get_weather_and_times,\n",
        "    description=\"Get weather, local time, and IST time. Input should be a city name.\"\n",
        ")\n",
        "\n",
        "# STEP 6: Create Agent\n",
        "# Ensure OPENAI_API_KEY is set in your environment or .env file\n",
        "llm = ChatOpenAI(model=\"gpt-4o-mini\", temperature=0) # Changed model to gpt-4o-mini as 4.1-nano is not standard\n",
        "agent = initialize_agent(\n",
        "    tools=[weather_tool],\n",
        "    llm=llm,\n",
        "    agent=AgentType.OPENAI_FUNCTIONS,\n",
        "    verbose=True\n",
        ")\n",
        "\n",
        "# STEP 7: Run in loop\n",
        "print(\"🌍 Ask for any city's weather & time. Type 'exit' to quit.\\n\")\n",
        "while True:\n",
        "    city = input(\"Enter city name: \").strip()\n",
        "    if city.lower() in [\"exit\", \"quit\"]:\n",
        "        print(\"👋 Exiting. Stay informed!\")\n",
        "        break\n",
        "    # Ensure the input to agent.run is a string\n",
        "    response = agent.run(f\"Get weather and time in {city}\")\n",
        "    print(\"\\n💬 Agent response:\\n\", response, \"\\n\" + \"-\"*60 + \"\\n\")"
      ],
      "metadata": {
        "id": "0PZbiYIJ7Wg6"
      },
      "execution_count": null,
      "outputs": []
    },
    {
      "cell_type": "code",
      "source": [
        "# End of the Weather Example"
      ],
      "metadata": {
        "id": "VipdpC2-A6ch"
      },
      "execution_count": 12,
      "outputs": []
    },
    {
      "cell_type": "code",
      "source": [
        "# Agent - > Task -> Tools\n",
        "\n",
        "# Tools\n",
        "      # User Defined Tools (Python) Functions\n",
        "      # Invoked Tools with LLMs\n",
        "\n",
        "      # Built-In Tool"
      ],
      "metadata": {
        "id": "7MvAz8srA8ar"
      },
      "execution_count": 13,
      "outputs": []
    },
    {
      "cell_type": "code",
      "source": [
        "#"
      ],
      "metadata": {
        "id": "2FQ-wxKTCJ1U"
      },
      "execution_count": null,
      "outputs": []
    },
    {
      "cell_type": "code",
      "source": [
        "!pip install -U ddgs"
      ],
      "metadata": {
        "id": "4Tf6rNPxCJwg"
      },
      "execution_count": null,
      "outputs": []
    },
    {
      "cell_type": "code",
      "source": [],
      "metadata": {
        "id": "G2ZpB_oRCFt9"
      },
      "execution_count": null,
      "outputs": []
    },
    {
      "cell_type": "code",
      "source": [
        "from langchain_community.tools import DuckDuckGoSearchResults\n",
        "\n",
        "def get_indian_news_headlines():\n",
        "    \"\"\"\n",
        "    Retrieves today's news headlines in India using DuckDuckGo search.\n",
        "    \"\"\"\n",
        "    search_tool = DuckDuckGoSearchResults(backend=\"news\", max_results=10)\n",
        "    query = \"latest news headlines in India today about Trump Tarrifs on India\"\n",
        "    results = search_tool.invoke(query)\n",
        "\n",
        "    print(\"Today's News Headlines - \")\n",
        "    # The results are typically a string containing JSON or a similar format.\n",
        "    # You might need to parse this string to extract individual headlines.\n",
        "    # For simplicity, this example prints the raw search results.\n",
        "    print(results)\n",
        "\n",
        "if __name__ == \"__main__\":\n",
        "    get_indian_news_headlines()"
      ],
      "metadata": {
        "colab": {
          "base_uri": "https://localhost:8080/"
        },
        "id": "5dND1oeyD9s9",
        "outputId": "ee2869b7-62d3-47f9-b08c-b027c0835808"
      },
      "execution_count": 25,
      "outputs": [
        {
          "output_type": "stream",
          "name": "stdout",
          "text": [
            "Today's News Headlines - \n",
            "snippet: You can reach Shane by emailing s.croucher@newsweek.com U.S. President Donald Trump said India had offered to slash its tariffs amid trade negotiations between the two countries, but warned that it is \"getting late\"., title: Trump Issues Fresh Warning to India Trump After Modi, Xi, Putin Meeting, link: https://www.newsweek.com/trump-india-tariffs-trade-russia-oil-2122670, date: 2025-09-01T14:02:00+00:00, source: Newsweek, snippet: President Trump stood by the steep tariffs he imposed on India as a penalty for buying Russian oil, as Indian Prime Minister Narendra Modi met with Russian President Vladimir Putin on Monday in a, title: Trump stands firm on India tariffs as Modi reiterates Russia, China ties, link: https://www.msn.com/en-us/money/markets/trump-stands-firm-on-india-tariffs-as-modi-reiterates-russia-china-ties/ar-AA1LEsXM, date: 2025-09-01T15:07:26+00:00, source: The Hill, snippet: Instead of imposing sanctions on China or others purchasing larger amounts of Russian oil, Trump is singling out India with tariffs, hurting Americans and sabotaging the US-India relationship in the process,, title: 'Trump singling out India, sabotaging New Delhi-Washington ties': Democrats call out tariffs, link: https://www.indiatvnews.com/news/world/trump-singling-out-india-sabotaging-new-delhi-washington-ties-democrats-call-out-tariffs-2025-08-28-1005524, date: 2025-08-28T03:39:00+00:00, source: India TV News, snippet: Peter Navarro accused India of indirectly funding Russia's war in Ukraine through discounted oil purchases, alleging that Brahmins are profiting at th, title: 'Brahmins profiteering': Donald Trump's trade adviser's latest jibe at India over Russian oil; INDIA reacts, link: https://www.msn.com/en-in/news/world/brahmins-profiteering-donald-trumps-trade-advisers-latest-jibe-at-india-over-russian-oil-defends-tariffs/ar-AA1LBFe4, date: 2025-09-01T10:25:00+00:00, source: The Times of India\n"
          ]
        }
      ]
    },
    {
      "cell_type": "code",
      "source": [
        "# the above code resonse is displaying the date as \"October 2023\" however it shall the current date for the news. and also expand the code to display the information about impact of this news on Indian busines and stock market."
      ],
      "metadata": {
        "id": "wPii5p_dGcwv"
      },
      "execution_count": null,
      "outputs": []
    },
    {
      "cell_type": "code",
      "source": [
        "# Install necessary libraries\n",
        "# !pip install langchain langchain-community langchain-openai duckduckgo-search\n",
        "\n",
        "from langchain_openai import ChatOpenAI\n",
        "from langchain.agents import initialize_agent, AgentType\n",
        "from langchain_community.tools import DuckDuckGoSearchRun\n",
        "from google.colab import userdata\n",
        "\n",
        "# Get OpenAI API key from Colab secrets\n",
        "OPENAI_API_KEY = userdata.get('OPENAI_API_KEY')\n",
        "\n",
        "# Initialize the LLM\n",
        "llm = ChatOpenAI(model=\"gpt-4o-mini\", temperature=0, openai_api_key=OPENAI_API_KEY)\n",
        "\n",
        "# Initialize the DuckDuckGo Search tool configured for news\n",
        "search = DuckDuckGoSearchRun(backend=\"news\")\n",
        "\n",
        "# Create a list of tools for the agent\n",
        "tools = [search]\n",
        "\n",
        "# Initialize the agent\n",
        "agent = initialize_agent(\n",
        "    tools,\n",
        "    llm,\n",
        "    agent=AgentType.ZERO_SHOT_REACT_DESCRIPTION, # A simple agent type that works well with search\n",
        "    verbose=True\n",
        ")\n",
        "\n",
        "# Define the specific query\n",
        "query = \"current news headlines in India today about Trump tariffs and their impact on Indian business and stock market\"\n",
        "\n",
        "# Run the agent with the query\n",
        "print(f\"Invoking agent with query: {query}\")\n",
        "response = agent.run(query)\n",
        "\n",
        "print(\"\\nAgent Response:\")\n",
        "print(response)"
      ],
      "metadata": {
        "colab": {
          "base_uri": "https://localhost:8080/"
        },
        "id": "HVP6hGrgES_P",
        "outputId": "450c2713-9d98-4339-f077-c7b8354d4106"
      },
      "execution_count": 27,
      "outputs": [
        {
          "output_type": "stream",
          "name": "stdout",
          "text": [
            "Invoking agent with query: current news headlines in India today about Trump tariffs and their impact on Indian business and stock market\n",
            "\n",
            "\n",
            "\u001b[1m> Entering new AgentExecutor chain...\u001b[0m\n",
            "\u001b[32;1m\u001b[1;3mI need to find current news headlines related to Trump tariffs and their impact on Indian business and the stock market. This requires a search for recent articles or news updates. \n",
            "Action: duckduckgo_search\n",
            "Action Input: \"Trump tariffs impact on Indian business stock market news October 2023\"\u001b[0m\n",
            "Observation: \u001b[36;1m\u001b[1;3m1 week ago - Stock market today: Indian equity benchmark indices, Nifty50 and BSE Sensex, experienced a significant decline on Tuesday after the United States announced a draft notification regarding an additional 25 per cent tariff implementation on products from India. April 3, 2025 - India’s exports in the most vulnerable sectors amount to only 1.1 per cent of India’s GDP, and India's trade surplus with the US is not significantly large, experts point out, so Trump’s tariff is unlikely to have a major negative impact on the overall Indian economy . 2 weeks ago - New U.S. taxes on American imports, even at 25 percent, will hurt many Indian businesses and may put vast numbers of people out of work. 6 days ago - Following the announcement, Indian stock markets dropped , and the rupee weakened as foreign investors sold off assets, although local buyers helped mitigate the decline. April 2, 2025 - \"While the reciprocal tariffs introduced by Trump is seen with some dismay by India Inc., the impact remains more sectoral than general for Indian businesses ,\" said Amit Sarkar, Partner, Bhuta Shah and Co LLP.\u001b[0m\n",
            "Thought:\u001b[32;1m\u001b[1;3mI need to summarize the key points from the observations regarding the impact of Trump tariffs on Indian businesses and the stock market. \n",
            "\n",
            "Final Answer: Recent news indicates that the announcement of a 25% tariff on products from India by the United States has led to a significant decline in Indian stock markets, with indices like Nifty50 and BSE Sensex experiencing drops. While there are concerns about the potential negative impact on Indian businesses, experts suggest that the overall effect on the Indian economy may be limited, as the sectors most affected represent only a small portion of India's GDP. Additionally, the rupee weakened as foreign investors sold off assets, although local buyers helped to mitigate some of the decline.\u001b[0m\n",
            "\n",
            "\u001b[1m> Finished chain.\u001b[0m\n",
            "\n",
            "Agent Response:\n",
            "Recent news indicates that the announcement of a 25% tariff on products from India by the United States has led to a significant decline in Indian stock markets, with indices like Nifty50 and BSE Sensex experiencing drops. While there are concerns about the potential negative impact on Indian businesses, experts suggest that the overall effect on the Indian economy may be limited, as the sectors most affected represent only a small portion of India's GDP. Additionally, the rupee weakened as foreign investors sold off assets, although local buyers helped to mitigate some of the decline.\n"
          ]
        }
      ]
    },
    {
      "cell_type": "code",
      "source": [
        "# Install necessary libraries\n",
        "# !pip install langchain langchain-community langchain-openai wikipedia\n",
        "\n",
        "from langchain_openai import ChatOpenAI\n",
        "from langchain.agents import initialize_agent, AgentType\n",
        "from langchain_community.tools import WikipediaQueryRun\n",
        "from langchain_community.utilities import WikipediaAPIWrapper\n",
        "from google.colab import userdata\n",
        "\n",
        "# Get OpenAI API key from Colab secrets\n",
        "OPENAI_API_KEY = userdata.get('OPENAI_API_KEY')\n",
        "\n",
        "# Initialize the LLM\n",
        "llm = ChatOpenAI(model=\"gpt-4o-mini\", temperature=0, openai_api_key=OPENAI_API_KEY)\n",
        "\n",
        "# Initialize the Wikipedia API wrapper\n",
        "wikipedia = WikipediaAPIWrapper()\n",
        "\n",
        "# Initialize the Wikipedia Query Run tool\n",
        "wikipedia_tool = WikipediaQueryRun(api_wrapper=wikipedia)\n",
        "\n",
        "# Create a list of tools for the agent\n",
        "tools = [wikipedia_tool]\n",
        "\n",
        "# Initialize the agent\n",
        "agent = initialize_agent(\n",
        "    tools,\n",
        "    llm,\n",
        "    agent=AgentType.ZERO_SHOT_REACT_DESCRIPTION, # A simple agent type that works well with search\n",
        "    verbose=True\n",
        ")\n",
        "\n",
        "# Define a query about cricket\n",
        "query = \"Summary of Indian cricket\"\n",
        "\n",
        "# Run the agent with the query\n",
        "print(f\"Invoking agent with query: {query}\")\n",
        "response = agent.run(query)\n",
        "\n",
        "print(\"\\nAgent Response:\")\n",
        "print(response)"
      ],
      "metadata": {
        "colab": {
          "base_uri": "https://localhost:8080/"
        },
        "id": "kKKfV8imGYF6",
        "outputId": "e6543fbd-61d0-4cbe-ae7f-5951f9b3dcee"
      },
      "execution_count": 30,
      "outputs": [
        {
          "output_type": "stream",
          "name": "stdout",
          "text": [
            "Invoking agent with query: Summary of Indian cricket\n",
            "\n",
            "\n",
            "\u001b[1m> Entering new AgentExecutor chain...\u001b[0m\n",
            "\u001b[32;1m\u001b[1;3mI need to gather information about Indian cricket, including its history, major achievements, and current status. \n",
            "Action: wikipedia\n",
            "Action Input: Indian cricket\u001b[0m\n",
            "Observation: \u001b[36;1m\u001b[1;3mPage: India national cricket team\n",
            "Summary: The India men's national cricket team, also known as Men in Blue, represents India in international cricket. It is governed by the Board of Control for Cricket in India (BCCI) and is a full member nation of the International Cricket Council with Test, ODI and T20I status. India are the current holders of the T20 World Cup, the Champions Trophy and the Asia Cup.\n",
            "The team has played 594 Test matches, winning 183, losing 186, with 224 draws and 1 tie. As of August 2025, India is ranked fourth in the ICC Men's Test Team Rankings with 107 rating points. India have played in two of the three World Test Championship finals, finishing runners-up in 2021 and 2023, while finishing third in 2025.\n",
            "Test rivalries include the Border–Gavaskar Trophy with Australia, Freedom Trophy with South Africa, Anderson–Tendulkar Trophy with England.\n",
            "The team has played 1,066 ODI matches, winning 567, losing 445, tying 10 and with 44 ending in a no-result. As of August 2025, India is ranked first in the ICC Men's ODI Team Rankings with 124 rating points. India have appeared in the World Cup final four times in 1983, 2003, 2011, and 2023 and have won the World Cup twice in 1983 and 2011. It was the second team, after the West Indies, to win the World Cup, and the first to win the competition on home soil after winning it in 2011. India have also won the Champions Trophy three times, in 2002, 2013 and 2025. In addition to that, they have also won the ODI Asia Cup seven times, in 1984, 1988, 1990–91, 1995, 2010, 2018, and 2023.\n",
            "The team has played 247 Twenty20 International matches, winning 164, losing 71, tying 6 and with 6 ending in a no-result. As of August 2025, India is ranked first in the ICC Men's T20I Team Rankings with 271 rating points. India have won the T20 World Cup twice in 2007 and 2024. They have also won the T20 Asia Cup in 2016 and have secured a gold medal at the Asian Games in 2022.\n",
            "\n",
            "Page: West Indies cricket team\n",
            "Summary: The West Indies cricket team, nicknamed The Windies, is a men's cricket team representing the West Indies—a group of mainly English-speaking countries and territories in the Caribbean region—and administered by Cricket West Indies. The players are selected from a chain of fifteen Caribbean nation-states and territories. As of 25 March 2025, the West Indies cricket team is ranked eighth in Tests, ninth in ODIs, and fifth in T20Is in the official ICC rankings.\n",
            "From the mid-late 1970s to the early 1990s, the West Indies team was the strongest in the world in both Test and One Day International cricket. A number of cricketers who were considered among the best in the world have hailed from the West Indies: 21 have been inducted into the ICC Cricket Hall of Fame.\n",
            "The West Indies have won the ICC Cricket World Cup twice (1975 and 1979, when it was styled the Prudential Cup), the ICC T20 World Cup twice (2012 and 2016, when it was styled World Twenty20), the ICC Champions Trophy once (2004), the ICC Under 19 Cricket World Cup once (2016), and have also finished as runners-up in the Cricket World Cup (1983), the Under 19 Cricket World Cup (2004), and the ICC Champions Trophy (2006). The West Indies appeared in three consecutive World Cup finals (1975, 1979 and 1983), and were the first team to win back-to-back World Cups (1975 and 1979), both of these records have been surpassed only by Australia, who appeared in four consecutive World Cup Finals (1996, 1999, 2003 and 2007).\n",
            "The West Indies have hosted the 2007 Cricket World Cup the 2010 ICC World Twenty20, and co-hosted (with the United States) the 2024 ICC T20 World Cup.\n",
            "\n",
            "Page: Board of Control for Cricket in India\n",
            "Summary: The Board of Control for Cricket in India (BCCI) is the principal national governing body of the sport of cricket in India. Its headquarters are situated at the Cricket Centre in Wankhede Stadium, Mumbai. BCCI is the wealthiest governing body of cricket in the world. It has a revenue of more than 9,700 crore.\n",
            "It \u001b[0m\n",
            "Thought:\u001b[32;1m\u001b[1;3mI now have a comprehensive overview of Indian cricket, including its governing body, major achievements, and current rankings. \n",
            "\n",
            "Final Answer: The India men's national cricket team, known as the Men in Blue, represents India in international cricket and is governed by the Board of Control for Cricket in India (BCCI). India is a full member of the International Cricket Council (ICC) with Test, ODI, and T20I status. The team has won the Cricket World Cup twice (1983 and 2011), the T20 World Cup twice (2007 and 2024), and the Champions Trophy three times (2002, 2013, and 2025). As of August 2025, India ranks first in both ODI and T20I formats and fourth in Test cricket. The team has a rich history of rivalries and has achieved significant success in various international tournaments.\u001b[0m\n",
            "\n",
            "\u001b[1m> Finished chain.\u001b[0m\n",
            "\n",
            "Agent Response:\n",
            "The India men's national cricket team, known as the Men in Blue, represents India in international cricket and is governed by the Board of Control for Cricket in India (BCCI). India is a full member of the International Cricket Council (ICC) with Test, ODI, and T20I status. The team has won the Cricket World Cup twice (1983 and 2011), the T20 World Cup twice (2007 and 2024), and the Champions Trophy three times (2002, 2013, and 2025). As of August 2025, India ranks first in both ODI and T20I formats and fourth in Test cricket. The team has a rich history of rivalries and has achieved significant success in various international tournaments.\n"
          ]
        }
      ]
    },
    {
      "cell_type": "code",
      "source": [],
      "metadata": {
        "id": "k4S1tQSIGDHT"
      },
      "execution_count": null,
      "outputs": []
    },
    {
      "cell_type": "code",
      "metadata": {
        "colab": {
          "base_uri": "https://localhost:8080/"
        },
        "id": "eb451c61",
        "outputId": "d2400793-7f3f-4739-8231-5bb4e7616916"
      },
      "source": [
        "!pip install wikipedia"
      ],
      "execution_count": 29,
      "outputs": [
        {
          "output_type": "stream",
          "name": "stdout",
          "text": [
            "Collecting wikipedia\n",
            "  Downloading wikipedia-1.4.0.tar.gz (27 kB)\n",
            "  Preparing metadata (setup.py) ... \u001b[?25l\u001b[?25hdone\n",
            "Requirement already satisfied: beautifulsoup4 in /usr/local/lib/python3.12/dist-packages (from wikipedia) (4.13.5)\n",
            "Requirement already satisfied: requests<3.0.0,>=2.0.0 in /usr/local/lib/python3.12/dist-packages (from wikipedia) (2.32.5)\n",
            "Requirement already satisfied: charset_normalizer<4,>=2 in /usr/local/lib/python3.12/dist-packages (from requests<3.0.0,>=2.0.0->wikipedia) (3.4.3)\n",
            "Requirement already satisfied: idna<4,>=2.5 in /usr/local/lib/python3.12/dist-packages (from requests<3.0.0,>=2.0.0->wikipedia) (3.10)\n",
            "Requirement already satisfied: urllib3<3,>=1.21.1 in /usr/local/lib/python3.12/dist-packages (from requests<3.0.0,>=2.0.0->wikipedia) (2.5.0)\n",
            "Requirement already satisfied: certifi>=2017.4.17 in /usr/local/lib/python3.12/dist-packages (from requests<3.0.0,>=2.0.0->wikipedia) (2025.8.3)\n",
            "Requirement already satisfied: soupsieve>1.2 in /usr/local/lib/python3.12/dist-packages (from beautifulsoup4->wikipedia) (2.7)\n",
            "Requirement already satisfied: typing-extensions>=4.0.0 in /usr/local/lib/python3.12/dist-packages (from beautifulsoup4->wikipedia) (4.15.0)\n",
            "Building wheels for collected packages: wikipedia\n",
            "  Building wheel for wikipedia (setup.py) ... \u001b[?25l\u001b[?25hdone\n",
            "  Created wheel for wikipedia: filename=wikipedia-1.4.0-py3-none-any.whl size=11678 sha256=18539f51279ff1299454a0959d0e0896a9bd76dde151df6731563a42d718bd54\n",
            "  Stored in directory: /root/.cache/pip/wheels/63/47/7c/a9688349aa74d228ce0a9023229c6c0ac52ca2a40fe87679b8\n",
            "Successfully built wikipedia\n",
            "Installing collected packages: wikipedia\n",
            "Successfully installed wikipedia-1.4.0\n"
          ]
        }
      ]
    },
    {
      "cell_type": "code",
      "source": [
        "# End of the Notebook"
      ],
      "metadata": {
        "id": "ctwcj8HuIq5Y"
      },
      "execution_count": 31,
      "outputs": []
    },
    {
      "cell_type": "code",
      "source": [],
      "metadata": {
        "id": "TLyW7p5_Isd6"
      },
      "execution_count": null,
      "outputs": []
    }
  ],
  "metadata": {
    "colab": {
      "name": "Welcome To Colab",
      "provenance": []
    },
    "kernelspec": {
      "display_name": "Python 3",
      "name": "python3"
    }
  },
  "nbformat": 4,
  "nbformat_minor": 0
}